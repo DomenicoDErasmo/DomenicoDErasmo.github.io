{
 "cells": [
  {
   "cell_type": "code",
   "execution_count": 1,
   "metadata": {},
   "outputs": [],
   "source": [
    "%load_ext sql"
   ]
  },
  {
   "cell_type": "code",
   "execution_count": 2,
   "metadata": {},
   "outputs": [
    {
     "data": {
      "text/plain": [
       "'Connected: @lab4.db3'"
      ]
     },
     "execution_count": 2,
     "metadata": {},
     "output_type": "execute_result"
    }
   ],
   "source": [
    "%sql sqlite:///lab4.db3"
   ]
  },
  {
   "cell_type": "markdown",
   "metadata": {},
   "source": [
    "Question 1\n",
    "\n",
    " {A} is a superkey for a relation T (A, B, C, D)"
   ]
  },
  {
   "cell_type": "markdown",
   "metadata": {},
   "source": [
    "Deletes the Pokemon Table (for Debugging)"
   ]
  },
  {
   "cell_type": "code",
   "execution_count": 26,
   "metadata": {},
   "outputs": [
    {
     "name": "stdout",
     "output_type": "stream",
     "text": [
      "Done.\n"
     ]
    },
    {
     "data": {
      "text/plain": [
       "[]"
      ]
     },
     "execution_count": 26,
     "metadata": {},
     "output_type": "execute_result"
    }
   ],
   "source": [
    "%%sql sqlite://\n",
    "    \n",
    "DROP TABLE Pokemon"
   ]
  },
  {
   "cell_type": "markdown",
   "metadata": {},
   "source": [
    "Creates a table that fulfills Question 1"
   ]
  },
  {
   "cell_type": "code",
   "execution_count": 27,
   "metadata": {},
   "outputs": [
    {
     "name": "stdout",
     "output_type": "stream",
     "text": [
      "Done.\n"
     ]
    },
    {
     "data": {
      "text/plain": [
       "[]"
      ]
     },
     "execution_count": 27,
     "metadata": {},
     "output_type": "execute_result"
    }
   ],
   "source": [
    "%%sql sqlite://\n",
    "\n",
    "CREATE TABLE IF NOT EXISTS Pokemon\n",
    "(\n",
    "    unique_number INTEGER PRIMARY KEY,\n",
    "    name TEXT NOT NULL,\n",
    "    type1 TEXT,\n",
    "    type2 TEXT\n",
    ")"
   ]
  },
  {
   "cell_type": "markdown",
   "metadata": {},
   "source": [
    "Populates the Pokemon Table"
   ]
  },
  {
   "cell_type": "code",
   "execution_count": 28,
   "metadata": {},
   "outputs": [
    {
     "name": "stdout",
     "output_type": "stream",
     "text": [
      "1 rows affected.\n",
      "1 rows affected.\n",
      "1 rows affected.\n",
      "1 rows affected.\n",
      "1 rows affected.\n"
     ]
    },
    {
     "data": {
      "text/plain": [
       "[]"
      ]
     },
     "execution_count": 28,
     "metadata": {},
     "output_type": "execute_result"
    }
   ],
   "source": [
    "%%sql sqlite://\n",
    "\n",
    "INSERT INTO Pokemon VALUES (252, \"Treecko\", \"Grass\", NULL);\n",
    "INSERT INTO Pokemon VALUES (255, \"Torchic\", \"Fire\", NULL);\n",
    "INSERT INTO Pokemon VALUES (258, \"Mudkip\", \"Water\", NULL);\n",
    "INSERT INTO Pokemon VALUES (306, \"Aggron\", \"Steel\", \"Rock\");\n",
    "INSERT INTO Pokemon VALUES (373, \"Salamence\", \"Dragon\", \"Flying\");"
   ]
  },
  {
   "cell_type": "markdown",
   "metadata": {},
   "source": [
    "SQL Query to show that Pokemon satisfies Question 1"
   ]
  },
  {
   "cell_type": "code",
   "execution_count": 29,
   "metadata": {},
   "outputs": [
    {
     "name": "stdout",
     "output_type": "stream",
     "text": [
      "Done.\n"
     ]
    },
    {
     "data": {
      "text/html": [
       "<table>\n",
       "    <tr>\n",
       "        <th>name</th>\n",
       "    </tr>\n",
       "</table>"
      ],
      "text/plain": [
       "[]"
      ]
     },
     "execution_count": 29,
     "metadata": {},
     "output_type": "execute_result"
    }
   ],
   "source": [
    "%%sql sqlite://\n",
    "    \n",
    "SELECT \n",
    "    Name\n",
    "FROM \n",
    "    Pokemon\n",
    "GROUP BY\n",
    "    Name\n",
    "HAVING \n",
    "    COUNT(name) >= 2"
   ]
  },
  {
   "cell_type": "markdown",
   "metadata": {},
   "source": [
    "Deletes the Employees Table (for Debugging)"
   ]
  },
  {
   "cell_type": "code",
   "execution_count": 30,
   "metadata": {},
   "outputs": [
    {
     "name": "stdout",
     "output_type": "stream",
     "text": [
      "Done.\n"
     ]
    },
    {
     "data": {
      "text/plain": [
       "[]"
      ]
     },
     "execution_count": 30,
     "metadata": {},
     "output_type": "execute_result"
    }
   ],
   "source": [
    "%%sql sqlite://\n",
    "\n",
    "DROP TABLE Employees"
   ]
  },
  {
   "cell_type": "markdown",
   "metadata": {},
   "source": [
    "Creates a table that does not fulfill Question 1"
   ]
  },
  {
   "cell_type": "code",
   "execution_count": 31,
   "metadata": {},
   "outputs": [
    {
     "name": "stdout",
     "output_type": "stream",
     "text": [
      "Done.\n"
     ]
    },
    {
     "data": {
      "text/plain": [
       "[]"
      ]
     },
     "execution_count": 31,
     "metadata": {},
     "output_type": "execute_result"
    }
   ],
   "source": [
    "%%sql sqlite://\n",
    "\n",
    "CREATE TABLE IF NOT EXISTS Employees\n",
    "(\n",
    "    FirstName TEXT,\n",
    "    LastName TEXT,\n",
    "    Salary DOUBLE,\n",
    "    Address TEXT\n",
    ")"
   ]
  },
  {
   "cell_type": "markdown",
   "metadata": {},
   "source": [
    "Populates the Employees table"
   ]
  },
  {
   "cell_type": "code",
   "execution_count": 32,
   "metadata": {},
   "outputs": [
    {
     "name": "stdout",
     "output_type": "stream",
     "text": [
      "1 rows affected.\n",
      "1 rows affected.\n",
      "1 rows affected.\n",
      "1 rows affected.\n",
      "1 rows affected.\n"
     ]
    },
    {
     "data": {
      "text/plain": [
       "[]"
      ]
     },
     "execution_count": 32,
     "metadata": {},
     "output_type": "execute_result"
    }
   ],
   "source": [
    "%%sql sqlite://\n",
    "\n",
    "INSERT INTO Employees VALUES (\"Giovanni\", \"Luigi\", 50000, \"142 Blue Road\");\n",
    "INSERT INTO Employees VALUES (\"Marco\", \"Luigi\", 65000, \"142 Blue Road\");\n",
    "INSERT INTO Employees VALUES (\"Gina\", \"Barese\", 55000, \"111 Green Street\");\n",
    "INSERT INTO Employees VALUES (\"Gina\", \"Cacio\", 55000, \"255 Red Avenue\");\n",
    "INSERT INTO Employees VALUES (\"Febbraia\", \"Parcheggio\", 56000, \"66 Yellow Block\");"
   ]
  },
  {
   "cell_type": "markdown",
   "metadata": {},
   "source": [
    "SQL Query to show that Employees fails Question 1"
   ]
  },
  {
   "cell_type": "code",
   "execution_count": 33,
   "metadata": {},
   "outputs": [
    {
     "name": "stdout",
     "output_type": "stream",
     "text": [
      "Done.\n"
     ]
    },
    {
     "data": {
      "text/html": [
       "<table>\n",
       "    <tr>\n",
       "        <th>FirstName</th>\n",
       "    </tr>\n",
       "    <tr>\n",
       "        <td>Gina</td>\n",
       "    </tr>\n",
       "</table>"
      ],
      "text/plain": [
       "[('Gina',)]"
      ]
     },
     "execution_count": 33,
     "metadata": {},
     "output_type": "execute_result"
    }
   ],
   "source": [
    "%%sql sqlite://\n",
    "    \n",
    "SELECT \n",
    "    FirstName\n",
    "FROM \n",
    "    Employees\n",
    "GROUP BY\n",
    "    FirstName\n",
    "HAVING \n",
    "    COUNT(FirstName) >= 2"
   ]
  },
  {
   "cell_type": "markdown",
   "metadata": {},
   "source": [
    "Question 2\n",
    "\n",
    "The combinations of two attributes in the relation T (A, B, C, D) are each keys."
   ]
  },
  {
   "cell_type": "markdown",
   "metadata": {},
   "source": [
    "Deletes the Q2Yes Table (for Debugging)"
   ]
  },
  {
   "cell_type": "code",
   "execution_count": 34,
   "metadata": {},
   "outputs": [
    {
     "name": "stdout",
     "output_type": "stream",
     "text": [
      "Done.\n"
     ]
    },
    {
     "data": {
      "text/plain": [
       "[]"
      ]
     },
     "execution_count": 34,
     "metadata": {},
     "output_type": "execute_result"
    }
   ],
   "source": [
    "%%sql sqlite://\n",
    "\n",
    "DROP TABLE Q2Yes\n"
   ]
  },
  {
   "cell_type": "markdown",
   "metadata": {},
   "source": [
    "Creates a table that fulfills Question 2"
   ]
  },
  {
   "cell_type": "code",
   "execution_count": 35,
   "metadata": {},
   "outputs": [
    {
     "name": "stdout",
     "output_type": "stream",
     "text": [
      "Done.\n"
     ]
    },
    {
     "data": {
      "text/plain": [
       "[]"
      ]
     },
     "execution_count": 35,
     "metadata": {},
     "output_type": "execute_result"
    }
   ],
   "source": [
    "%%sql sqlite://\n",
    "\n",
    "CREATE TABLE IF NOT EXISTS Q2Yes\n",
    "(\n",
    "    Category_A TEXT,\n",
    "    Category_B TEXT,\n",
    "    Category_C TEXT,\n",
    "    Category_D TEXT\n",
    ")"
   ]
  },
  {
   "cell_type": "markdown",
   "metadata": {},
   "source": [
    "Populates the Q2Yes table"
   ]
  },
  {
   "cell_type": "code",
   "execution_count": 36,
   "metadata": {},
   "outputs": [
    {
     "name": "stdout",
     "output_type": "stream",
     "text": [
      "1 rows affected.\n",
      "1 rows affected.\n",
      "1 rows affected.\n",
      "1 rows affected.\n",
      "1 rows affected.\n"
     ]
    },
    {
     "data": {
      "text/plain": [
       "[]"
      ]
     },
     "execution_count": 36,
     "metadata": {},
     "output_type": "execute_result"
    }
   ],
   "source": [
    "%%sql sqlite://\n",
    "\n",
    "INSERT INTO Q2Yes VALUES (\"a1\", \"b1\", \"c1\", \"d1\");\n",
    "INSERT INTO Q2Yes VALUES (\"a1\", \"b2\", \"c2\", \"d2\");\n",
    "INSERT INTO Q2Yes VALUES (\"a3\", \"b2\", \"c3\", \"d3\");\n",
    "INSERT INTO Q2Yes VALUES (\"a4\", \"b4\", \"c3\", \"d4\");\n",
    "INSERT INTO Q2Yes VALUES (\"a5\", \"b5\", \"c5\", \"d4\");"
   ]
  },
  {
   "cell_type": "markdown",
   "metadata": {},
   "source": [
    "____________________________________\n",
    "\n",
    "SQL Queries to show that Q2Yes satisfies Quesion 2\n",
    "_____________________________________"
   ]
  },
  {
   "cell_type": "markdown",
   "metadata": {},
   "source": [
    "SQL Query to show that no single attribute is the key of Q2Yes"
   ]
  },
  {
   "cell_type": "code",
   "execution_count": 37,
   "metadata": {},
   "outputs": [
    {
     "name": "stdout",
     "output_type": "stream",
     "text": [
      "Done.\n"
     ]
    },
    {
     "data": {
      "text/html": [
       "<table>\n",
       "    <tr>\n",
       "        <th>Category_A</th>\n",
       "    </tr>\n",
       "    <tr>\n",
       "        <td>a1</td>\n",
       "    </tr>\n",
       "</table>"
      ],
      "text/plain": [
       "[('a1',)]"
      ]
     },
     "execution_count": 37,
     "metadata": {},
     "output_type": "execute_result"
    }
   ],
   "source": [
    "%%sql sqlite://\n",
    "    \n",
    "SELECT \n",
    "    Category_A\n",
    "FROM \n",
    "    Q2Yes\n",
    "GROUP BY\n",
    "    Category_A\n",
    "HAVING \n",
    "    COUNT(Category_A) >= 2 AND\n",
    "    COUNT(Category_B) >= 2 AND\n",
    "    COUNT(Category_C) >= 2 AND\n",
    "    COUNT(Category_D) >= 2"
   ]
  },
  {
   "cell_type": "markdown",
   "metadata": {},
   "source": [
    "SQL Query to show that any 2 attributes are a key of Q2Yes\n",
    "\n",
    "I realize there is probably a way to condense this using aggregates but I'm not sure how"
   ]
  },
  {
   "cell_type": "code",
   "execution_count": 38,
   "metadata": {},
   "outputs": [
    {
     "name": "stdout",
     "output_type": "stream",
     "text": [
      "Done.\n"
     ]
    },
    {
     "data": {
      "text/html": [
       "<table>\n",
       "    <tr>\n",
       "        <th>Category_A</th>\n",
       "        <th>Category_B</th>\n",
       "        <th>Category_C</th>\n",
       "        <th>Category_D</th>\n",
       "        <th>Category_A_1</th>\n",
       "        <th>Category_B_1</th>\n",
       "        <th>Category_C_1</th>\n",
       "        <th>Category_D_1</th>\n",
       "    </tr>\n",
       "</table>"
      ],
      "text/plain": [
       "[]"
      ]
     },
     "execution_count": 38,
     "metadata": {},
     "output_type": "execute_result"
    }
   ],
   "source": [
    "%%sql sqlite://\n",
    "\n",
    "SELECT \n",
    "    *\n",
    "FROM \n",
    "    Q2Yes, Q2Yes as Q2YesB\n",
    "WHERE \n",
    "    ((Q2Yes.Category_A = Q2YesB.Category_A) AND\n",
    "     (Q2Yes.Category_B = Q2YesB.Category_B) AND\n",
    "     (Q2Yes.Category_C <> Q2YesB.Category_C)) OR\n",
    "    ((Q2Yes.Category_A = Q2YesB.Category_A) AND\n",
    "     (Q2Yes.Category_C = Q2YesB.Category_C) AND\n",
    "     (Q2Yes.Category_D <> Q2YesB.Category_D)) OR\n",
    "    ((Q2Yes.Category_A = Q2YesB.Category_A) AND\n",
    "     (Q2Yes.Category_D = Q2YesB.Category_D) AND\n",
    "     (Q2Yes.Category_B <> Q2YesB.Category_B)) OR\n",
    "     ((Q2Yes.Category_B = Q2YesB.Category_B) AND\n",
    "     (Q2Yes.Category_C = Q2YesB.Category_C) AND\n",
    "     (Q2Yes.Category_A <> Q2YesB.Category_A)) OR\n",
    "    ((Q2Yes.Category_B = Q2YesB.Category_B) AND\n",
    "     (Q2Yes.Category_D = Q2YesB.Category_D) AND\n",
    "     (Q2Yes.Category_A <> Q2YesB.Category_A)) OR\n",
    "    ((Q2Yes.Category_C = Q2YesB.Category_C) AND\n",
    "     (Q2Yes.Category_D = Q2YesB.Category_D) AND\n",
    "     (Q2Yes.Category_A <> Q2YesB.Category_A))"
   ]
  },
  {
   "cell_type": "markdown",
   "metadata": {},
   "source": [
    "Deletes the Q2Fail Table (for Debugging)"
   ]
  },
  {
   "cell_type": "code",
   "execution_count": 39,
   "metadata": {},
   "outputs": [
    {
     "name": "stdout",
     "output_type": "stream",
     "text": [
      "Done.\n"
     ]
    },
    {
     "data": {
      "text/plain": [
       "[]"
      ]
     },
     "execution_count": 39,
     "metadata": {},
     "output_type": "execute_result"
    }
   ],
   "source": [
    "%%sql sqlite://\n",
    "\n",
    "DROP TABLE Q2Fail"
   ]
  },
  {
   "cell_type": "markdown",
   "metadata": {},
   "source": [
    "Creates a table that fails Question 2"
   ]
  },
  {
   "cell_type": "code",
   "execution_count": 40,
   "metadata": {},
   "outputs": [
    {
     "name": "stdout",
     "output_type": "stream",
     "text": [
      "Done.\n"
     ]
    },
    {
     "data": {
      "text/plain": [
       "[]"
      ]
     },
     "execution_count": 40,
     "metadata": {},
     "output_type": "execute_result"
    }
   ],
   "source": [
    "%%sql sqlite://\n",
    "\n",
    "CREATE TABLE IF NOT EXISTS Q2Fail\n",
    "(\n",
    "    Category_A TEXT,\n",
    "    Category_B TEXT,\n",
    "    Category_C TEXT,\n",
    "    Category_D TEXT\n",
    ")"
   ]
  },
  {
   "cell_type": "markdown",
   "metadata": {},
   "source": [
    "Populates the Q2Fail table"
   ]
  },
  {
   "cell_type": "code",
   "execution_count": 41,
   "metadata": {},
   "outputs": [
    {
     "name": "stdout",
     "output_type": "stream",
     "text": [
      "1 rows affected.\n",
      "1 rows affected.\n",
      "1 rows affected.\n",
      "1 rows affected.\n",
      "1 rows affected.\n"
     ]
    },
    {
     "data": {
      "text/plain": [
       "[]"
      ]
     },
     "execution_count": 41,
     "metadata": {},
     "output_type": "execute_result"
    }
   ],
   "source": [
    "%%sql sqlite://\n",
    "\n",
    "INSERT INTO Q2Fail VALUES (\"a1\", \"b1\", \"c1\", \"d1\");\n",
    "INSERT INTO Q2Fail VALUES (\"a2\", \"b2\", \"c2\", \"d2\");\n",
    "INSERT INTO Q2Fail VALUES (\"a3\", \"b3\", \"c3\", \"d3\");\n",
    "INSERT INTO Q2Fail VALUES (\"a4\", \"b4\", \"c4\", \"d4\");\n",
    "INSERT INTO Q2Fail VALUES (\"a5\", \"b5\", \"c5\", \"d5\");"
   ]
  },
  {
   "cell_type": "markdown",
   "metadata": {},
   "source": [
    "SQL Query to show that Q2Fail's keys are not combinations of two elements (each individual attribute can be a key in this case)"
   ]
  },
  {
   "cell_type": "code",
   "execution_count": 64,
   "metadata": {},
   "outputs": [
    {
     "name": "stdout",
     "output_type": "stream",
     "text": [
      "Done.\n"
     ]
    },
    {
     "data": {
      "text/html": [
       "<table>\n",
       "    <tr>\n",
       "        <th>Category_A</th>\n",
       "    </tr>\n",
       "</table>"
      ],
      "text/plain": [
       "[]"
      ]
     },
     "execution_count": 64,
     "metadata": {},
     "output_type": "execute_result"
    }
   ],
   "source": [
    "%%sql sqlite://\n",
    "    \n",
    "SELECT \n",
    "    Category_A\n",
    "FROM \n",
    "    Q2Fail\n",
    "GROUP BY\n",
    "    Category_A\n",
    "HAVING \n",
    "    COUNT(Category_A) >= 2 AND\n",
    "    COUNT(Category_B) >= 2 AND\n",
    "    COUNT(Category_C) >= 2 AND\n",
    "    COUNT(Category_D) >= 2"
   ]
  },
  {
   "cell_type": "markdown",
   "metadata": {},
   "source": [
    "Question 3\n",
    "\n",
    "Create tables A and B with a tuple generating dependency between them\n",
    "\n",
    "(Also check if a TGD exists between Sailors and Reserves)"
   ]
  },
  {
   "cell_type": "markdown",
   "metadata": {},
   "source": [
    "Drops Sailors Table (for Debugging)"
   ]
  },
  {
   "cell_type": "code",
   "execution_count": null,
   "metadata": {},
   "outputs": [],
   "source": [
    "%%sql sqlite://\n",
    "\n",
    "DROP TABLE Sailors"
   ]
  },
  {
   "cell_type": "markdown",
   "metadata": {},
   "source": [
    "Creates Sailors Table"
   ]
  },
  {
   "cell_type": "code",
   "execution_count": 65,
   "metadata": {},
   "outputs": [
    {
     "name": "stdout",
     "output_type": "stream",
     "text": [
      "Done.\n"
     ]
    },
    {
     "data": {
      "text/plain": [
       "[]"
      ]
     },
     "execution_count": 65,
     "metadata": {},
     "output_type": "execute_result"
    }
   ],
   "source": [
    "%%sql sqlite://\n",
    "\n",
    "CREATE TABLE IF NOT EXISTS Sailors\n",
    "(\n",
    "    sID int,\n",
    "    sName TEXT,\n",
    "    Rating float,\n",
    "    Age int\n",
    ")"
   ]
  },
  {
   "cell_type": "markdown",
   "metadata": {},
   "source": [
    "Populates Sailors"
   ]
  },
  {
   "cell_type": "code",
   "execution_count": 66,
   "metadata": {},
   "outputs": [
    {
     "name": "stdout",
     "output_type": "stream",
     "text": [
      "1 rows affected.\n",
      "1 rows affected.\n",
      "1 rows affected.\n",
      "1 rows affected.\n",
      "1 rows affected.\n",
      "1 rows affected.\n"
     ]
    },
    {
     "data": {
      "text/plain": [
       "[]"
      ]
     },
     "execution_count": 66,
     "metadata": {},
     "output_type": "execute_result"
    }
   ],
   "source": [
    "%%sql sqlite://\n",
    "\n",
    "INSERT INTO Sailors VALUES (1, \"Dustin\", 5.5, 30);\n",
    "INSERT INTO Sailors VALUES (2, \"Rusty\", 5, 40);\n",
    "INSERT INTO Sailors VALUES (3, \"Lubber\", 6.5, 43);\n",
    "INSERT INTO Sailors VALUES (4, \"Pearl\", 7, 45);\n",
    "INSERT INTO Sailors VALUES (5, \"Darshee\", 8, 50);\n",
    "INSERT INTO Sailors VALUES (6, \"Yargh\", 8.5, 46);"
   ]
  },
  {
   "cell_type": "markdown",
   "metadata": {},
   "source": [
    "Drops Reserves Table (for Debugging)"
   ]
  },
  {
   "cell_type": "code",
   "execution_count": null,
   "metadata": {},
   "outputs": [],
   "source": [
    "%%sql sqlite://\n",
    "\n",
    "DROP TABLE Reserves"
   ]
  },
  {
   "cell_type": "markdown",
   "metadata": {},
   "source": [
    "Creates Reserves Table"
   ]
  },
  {
   "cell_type": "code",
   "execution_count": 68,
   "metadata": {},
   "outputs": [
    {
     "name": "stdout",
     "output_type": "stream",
     "text": [
      "Done.\n"
     ]
    },
    {
     "data": {
      "text/plain": [
       "[]"
      ]
     },
     "execution_count": 68,
     "metadata": {},
     "output_type": "execute_result"
    }
   ],
   "source": [
    "%%sql sqlite://\n",
    "\n",
    "CREATE TABLE IF NOT EXISTS Reserves\n",
    "(\n",
    "    sID int,\n",
    "    sName TEXT,\n",
    "    bID int,\n",
    "    bName TEXT,\n",
    "    Date TEXT\n",
    ")"
   ]
  },
  {
   "cell_type": "markdown",
   "metadata": {},
   "source": [
    "Populates Reserves"
   ]
  },
  {
   "cell_type": "code",
   "execution_count": 70,
   "metadata": {},
   "outputs": [
    {
     "name": "stdout",
     "output_type": "stream",
     "text": [
      "1 rows affected.\n",
      "1 rows affected.\n",
      "1 rows affected.\n",
      "1 rows affected.\n",
      "1 rows affected.\n",
      "1 rows affected.\n"
     ]
    },
    {
     "data": {
      "text/plain": [
       "[]"
      ]
     },
     "execution_count": 70,
     "metadata": {},
     "output_type": "execute_result"
    }
   ],
   "source": [
    "%%sql sqlite://\n",
    "\n",
    "INSERT INTO Reserves VALUES (1, \"Dustin\", 1, \"Jenny\", \"1/1/2011\");\n",
    "INSERT INTO Reserves VALUES (2, \"Rusty\", 2, \"Suzie\", \"2/2/2022\");\n",
    "INSERT INTO Reserves VALUES (3, \"Lubber\", 3, \"Leana\", \"3/3/2033\");\n",
    "INSERT INTO Reserves VALUES (4, \"Pearl\", 4, \"Bridget\", \"4/4/2044\");\n",
    "INSERT INTO Reserves VALUES (5, \"Darshee\", 5, \"Speedy\", \"5/5/2055\");\n",
    "INSERT INTO Reserves VALUES (6, \"Yargh\", 6, \"Sallie\", \"6/6/2066\");"
   ]
  },
  {
   "cell_type": "markdown",
   "metadata": {},
   "source": [
    "Drops Boats Table (for Debugging)"
   ]
  },
  {
   "cell_type": "code",
   "execution_count": null,
   "metadata": {},
   "outputs": [],
   "source": [
    "%%sql sqlite://\n",
    "\n",
    "DROP TABLE Boats"
   ]
  },
  {
   "cell_type": "markdown",
   "metadata": {},
   "source": [
    "Creates the Boats Table"
   ]
  },
  {
   "cell_type": "code",
   "execution_count": 67,
   "metadata": {},
   "outputs": [
    {
     "name": "stdout",
     "output_type": "stream",
     "text": [
      "Done.\n"
     ]
    },
    {
     "data": {
      "text/plain": [
       "[]"
      ]
     },
     "execution_count": 67,
     "metadata": {},
     "output_type": "execute_result"
    }
   ],
   "source": [
    "%%sql sqlite://\n",
    "\n",
    "CREATE TABLE IF NOT EXISTS Boats\n",
    "(\n",
    "    bID int,\n",
    "    bName TEXT,\n",
    "    Color TEXT\n",
    ")"
   ]
  },
  {
   "cell_type": "markdown",
   "metadata": {},
   "source": [
    "Populates Boats"
   ]
  },
  {
   "cell_type": "code",
   "execution_count": 69,
   "metadata": {},
   "outputs": [
    {
     "name": "stdout",
     "output_type": "stream",
     "text": [
      "1 rows affected.\n",
      "1 rows affected.\n",
      "1 rows affected.\n",
      "1 rows affected.\n",
      "1 rows affected.\n",
      "1 rows affected.\n"
     ]
    },
    {
     "data": {
      "text/plain": [
       "[]"
      ]
     },
     "execution_count": 69,
     "metadata": {},
     "output_type": "execute_result"
    }
   ],
   "source": [
    "%%sql sqlite://\n",
    "\n",
    "INSERT INTO Boats VALUES (1, \"Jenny\", \"Red\");\n",
    "INSERT INTO Boats VALUES (2, \"Suzie\", \"Blue\");\n",
    "INSERT INTO Boats VALUES (3, \"Leana\", \"Yellow\");\n",
    "INSERT INTO Boats VALUES (4, \"Bridget\", \"Green\");\n",
    "INSERT INTO Boats VALUES (5, \"Speedy\", \"Orange\");\n",
    "INSERT INTO Boats VALUES (6, \"Sallie\", \"Purple\");"
   ]
  },
  {
   "cell_type": "markdown",
   "metadata": {},
   "source": [
    "SQL Query to show that a TGD exists between Sailors and Reserves"
   ]
  },
  {
   "cell_type": "code",
   "execution_count": 72,
   "metadata": {},
   "outputs": [
    {
     "name": "stdout",
     "output_type": "stream",
     "text": [
      "Done.\n"
     ]
    },
    {
     "data": {
      "text/html": [
       "<table>\n",
       "    <tr>\n",
       "        <th>sID</th>\n",
       "        <th>sName</th>\n",
       "        <th>Rating</th>\n",
       "        <th>Age</th>\n",
       "        <th>sID_1</th>\n",
       "        <th>sName_1</th>\n",
       "        <th>bID</th>\n",
       "        <th>bName</th>\n",
       "        <th>Date</th>\n",
       "    </tr>\n",
       "</table>"
      ],
      "text/plain": [
       "[]"
      ]
     },
     "execution_count": 72,
     "metadata": {},
     "output_type": "execute_result"
    }
   ],
   "source": [
    "%%sql sqlite://\n",
    "    \n",
    "SELECT\n",
    "    *\n",
    "FROM\n",
    "    Sailors, Reserves\n",
    "WHERE\n",
    "    Sailors.sID =  Reserves.sID AND\n",
    "    Sailors.sName <> Reserves.sName"
   ]
  },
  {
   "cell_type": "markdown",
   "metadata": {},
   "source": [
    "Deletes the Table Q3FailA (for Debugging)"
   ]
  },
  {
   "cell_type": "code",
   "execution_count": 49,
   "metadata": {},
   "outputs": [
    {
     "name": "stdout",
     "output_type": "stream",
     "text": [
      "Done.\n"
     ]
    },
    {
     "data": {
      "text/plain": [
       "[]"
      ]
     },
     "execution_count": 49,
     "metadata": {},
     "output_type": "execute_result"
    }
   ],
   "source": [
    "%%sql sqlite://\n",
    "\n",
    "DROP TABLE Q3FailA"
   ]
  },
  {
   "cell_type": "markdown",
   "metadata": {},
   "source": [
    "Creates a table that does not satisfy Question 3\n",
    "\n",
    "Q3FailA is the first table that does not fulfill the TGD"
   ]
  },
  {
   "cell_type": "code",
   "execution_count": 50,
   "metadata": {},
   "outputs": [
    {
     "name": "stdout",
     "output_type": "stream",
     "text": [
      "Done.\n"
     ]
    },
    {
     "data": {
      "text/plain": [
       "[]"
      ]
     },
     "execution_count": 50,
     "metadata": {},
     "output_type": "execute_result"
    }
   ],
   "source": [
    "%%sql sqlite://\n",
    "\n",
    "CREATE TABLE IF NOT EXISTS Q3FailA\n",
    "(\n",
    "    Category_E TEXT,\n",
    "    Category_F TEXT,\n",
    "    Category_G TEXT,\n",
    "    Category_H TEXT\n",
    ")"
   ]
  },
  {
   "cell_type": "markdown",
   "metadata": {},
   "source": [
    "Populates Q3FailA"
   ]
  },
  {
   "cell_type": "code",
   "execution_count": 51,
   "metadata": {},
   "outputs": [
    {
     "name": "stdout",
     "output_type": "stream",
     "text": [
      "1 rows affected.\n",
      "1 rows affected.\n",
      "1 rows affected.\n",
      "1 rows affected.\n",
      "1 rows affected.\n"
     ]
    },
    {
     "data": {
      "text/plain": [
       "[]"
      ]
     },
     "execution_count": 51,
     "metadata": {},
     "output_type": "execute_result"
    }
   ],
   "source": [
    "%%sql sqlite://\n",
    "\n",
    "INSERT INTO Q3FailA VALUES (\"e1\", \"f1\", \"g1\", \"h1\");\n",
    "INSERT INTO Q3FailA VALUES (\"e2\", \"f2\", \"g2\", \"h2\");\n",
    "INSERT INTO Q3FailA VALUES (\"e3\", \"f3\", \"g3\", \"h3\");\n",
    "INSERT INTO Q3FailA VALUES (\"e4\", \"f4\", \"g4\", \"h4\");\n",
    "INSERT INTO Q3FailA VALUES (\"e5\", \"f5\", \"g5\", \"h5\");"
   ]
  },
  {
   "cell_type": "markdown",
   "metadata": {},
   "source": [
    "Deletes the Table Q3FailB (for Debugging)"
   ]
  },
  {
   "cell_type": "code",
   "execution_count": 52,
   "metadata": {},
   "outputs": [
    {
     "name": "stdout",
     "output_type": "stream",
     "text": [
      "Done.\n"
     ]
    },
    {
     "data": {
      "text/plain": [
       "[]"
      ]
     },
     "execution_count": 52,
     "metadata": {},
     "output_type": "execute_result"
    }
   ],
   "source": [
    "%%sql sqlite://\n",
    "\n",
    "DROP TABLE Q3FailB"
   ]
  },
  {
   "cell_type": "markdown",
   "metadata": {},
   "source": [
    "Creates a table that does not satisfy Question 3\n",
    "\n",
    "Q3FailB is the second table that does not fulfill the TGD"
   ]
  },
  {
   "cell_type": "code",
   "execution_count": 53,
   "metadata": {},
   "outputs": [
    {
     "name": "stdout",
     "output_type": "stream",
     "text": [
      "Done.\n"
     ]
    },
    {
     "data": {
      "text/plain": [
       "[]"
      ]
     },
     "execution_count": 53,
     "metadata": {},
     "output_type": "execute_result"
    }
   ],
   "source": [
    "%%sql sqlite://\n",
    "\n",
    "CREATE TABLE IF NOT EXISTS Q3FailB\n",
    "(\n",
    "    Category_E TEXT,\n",
    "    Category_F TEXT,\n",
    "    Category_G TEXT,\n",
    "    Category_H TEXT\n",
    ")"
   ]
  },
  {
   "cell_type": "markdown",
   "metadata": {},
   "source": [
    "Populates Q3FailB"
   ]
  },
  {
   "cell_type": "code",
   "execution_count": 54,
   "metadata": {},
   "outputs": [
    {
     "name": "stdout",
     "output_type": "stream",
     "text": [
      "1 rows affected.\n",
      "1 rows affected.\n",
      "1 rows affected.\n",
      "1 rows affected.\n",
      "1 rows affected.\n"
     ]
    },
    {
     "data": {
      "text/plain": [
       "[]"
      ]
     },
     "execution_count": 54,
     "metadata": {},
     "output_type": "execute_result"
    }
   ],
   "source": [
    "%%sql sqlite://\n",
    "\n",
    "INSERT INTO Q3FailB VALUES (\"e6\", \"f6\", \"g1\", \"h6\");\n",
    "INSERT INTO Q3FailB VALUES (\"e7\", \"f7\", \"g2\", \"h7\");\n",
    "INSERT INTO Q3FailB VALUES (\"e8\", \"f8\", \"g3\", \"h8\");\n",
    "INSERT INTO Q3FailB VALUES (\"e9\", \"f9\", \"g4\", \"h9\");\n",
    "INSERT INTO Q3FailB VALUES (\"e10\", \"f10\", \"g5\", \"h10\");"
   ]
  },
  {
   "cell_type": "markdown",
   "metadata": {},
   "source": [
    "SQL Query to show that there is not a TGD between Q3FailA and Q3FailB"
   ]
  },
  {
   "cell_type": "code",
   "execution_count": 73,
   "metadata": {},
   "outputs": [
    {
     "name": "stdout",
     "output_type": "stream",
     "text": [
      "Done.\n"
     ]
    },
    {
     "data": {
      "text/html": [
       "<table>\n",
       "    <tr>\n",
       "        <th>Category_E</th>\n",
       "        <th>Category_F</th>\n",
       "        <th>Category_G</th>\n",
       "        <th>Category_H</th>\n",
       "        <th>Category_E_1</th>\n",
       "        <th>Category_F_1</th>\n",
       "        <th>Category_G_1</th>\n",
       "        <th>Category_H_1</th>\n",
       "    </tr>\n",
       "    <tr>\n",
       "        <td>e1</td>\n",
       "        <td>f1</td>\n",
       "        <td>g1</td>\n",
       "        <td>h1</td>\n",
       "        <td>e6</td>\n",
       "        <td>f6</td>\n",
       "        <td>g1</td>\n",
       "        <td>h6</td>\n",
       "    </tr>\n",
       "    <tr>\n",
       "        <td>e1</td>\n",
       "        <td>f1</td>\n",
       "        <td>g1</td>\n",
       "        <td>h1</td>\n",
       "        <td>e7</td>\n",
       "        <td>f7</td>\n",
       "        <td>g2</td>\n",
       "        <td>h7</td>\n",
       "    </tr>\n",
       "    <tr>\n",
       "        <td>e1</td>\n",
       "        <td>f1</td>\n",
       "        <td>g1</td>\n",
       "        <td>h1</td>\n",
       "        <td>e8</td>\n",
       "        <td>f8</td>\n",
       "        <td>g3</td>\n",
       "        <td>h8</td>\n",
       "    </tr>\n",
       "    <tr>\n",
       "        <td>e1</td>\n",
       "        <td>f1</td>\n",
       "        <td>g1</td>\n",
       "        <td>h1</td>\n",
       "        <td>e9</td>\n",
       "        <td>f9</td>\n",
       "        <td>g4</td>\n",
       "        <td>h9</td>\n",
       "    </tr>\n",
       "    <tr>\n",
       "        <td>e1</td>\n",
       "        <td>f1</td>\n",
       "        <td>g1</td>\n",
       "        <td>h1</td>\n",
       "        <td>e10</td>\n",
       "        <td>f10</td>\n",
       "        <td>g5</td>\n",
       "        <td>h10</td>\n",
       "    </tr>\n",
       "    <tr>\n",
       "        <td>e2</td>\n",
       "        <td>f2</td>\n",
       "        <td>g2</td>\n",
       "        <td>h2</td>\n",
       "        <td>e6</td>\n",
       "        <td>f6</td>\n",
       "        <td>g1</td>\n",
       "        <td>h6</td>\n",
       "    </tr>\n",
       "    <tr>\n",
       "        <td>e2</td>\n",
       "        <td>f2</td>\n",
       "        <td>g2</td>\n",
       "        <td>h2</td>\n",
       "        <td>e7</td>\n",
       "        <td>f7</td>\n",
       "        <td>g2</td>\n",
       "        <td>h7</td>\n",
       "    </tr>\n",
       "    <tr>\n",
       "        <td>e2</td>\n",
       "        <td>f2</td>\n",
       "        <td>g2</td>\n",
       "        <td>h2</td>\n",
       "        <td>e8</td>\n",
       "        <td>f8</td>\n",
       "        <td>g3</td>\n",
       "        <td>h8</td>\n",
       "    </tr>\n",
       "    <tr>\n",
       "        <td>e2</td>\n",
       "        <td>f2</td>\n",
       "        <td>g2</td>\n",
       "        <td>h2</td>\n",
       "        <td>e9</td>\n",
       "        <td>f9</td>\n",
       "        <td>g4</td>\n",
       "        <td>h9</td>\n",
       "    </tr>\n",
       "    <tr>\n",
       "        <td>e2</td>\n",
       "        <td>f2</td>\n",
       "        <td>g2</td>\n",
       "        <td>h2</td>\n",
       "        <td>e10</td>\n",
       "        <td>f10</td>\n",
       "        <td>g5</td>\n",
       "        <td>h10</td>\n",
       "    </tr>\n",
       "    <tr>\n",
       "        <td>e3</td>\n",
       "        <td>f3</td>\n",
       "        <td>g3</td>\n",
       "        <td>h3</td>\n",
       "        <td>e6</td>\n",
       "        <td>f6</td>\n",
       "        <td>g1</td>\n",
       "        <td>h6</td>\n",
       "    </tr>\n",
       "    <tr>\n",
       "        <td>e3</td>\n",
       "        <td>f3</td>\n",
       "        <td>g3</td>\n",
       "        <td>h3</td>\n",
       "        <td>e7</td>\n",
       "        <td>f7</td>\n",
       "        <td>g2</td>\n",
       "        <td>h7</td>\n",
       "    </tr>\n",
       "    <tr>\n",
       "        <td>e3</td>\n",
       "        <td>f3</td>\n",
       "        <td>g3</td>\n",
       "        <td>h3</td>\n",
       "        <td>e8</td>\n",
       "        <td>f8</td>\n",
       "        <td>g3</td>\n",
       "        <td>h8</td>\n",
       "    </tr>\n",
       "    <tr>\n",
       "        <td>e3</td>\n",
       "        <td>f3</td>\n",
       "        <td>g3</td>\n",
       "        <td>h3</td>\n",
       "        <td>e9</td>\n",
       "        <td>f9</td>\n",
       "        <td>g4</td>\n",
       "        <td>h9</td>\n",
       "    </tr>\n",
       "    <tr>\n",
       "        <td>e3</td>\n",
       "        <td>f3</td>\n",
       "        <td>g3</td>\n",
       "        <td>h3</td>\n",
       "        <td>e10</td>\n",
       "        <td>f10</td>\n",
       "        <td>g5</td>\n",
       "        <td>h10</td>\n",
       "    </tr>\n",
       "    <tr>\n",
       "        <td>e4</td>\n",
       "        <td>f4</td>\n",
       "        <td>g4</td>\n",
       "        <td>h4</td>\n",
       "        <td>e6</td>\n",
       "        <td>f6</td>\n",
       "        <td>g1</td>\n",
       "        <td>h6</td>\n",
       "    </tr>\n",
       "    <tr>\n",
       "        <td>e4</td>\n",
       "        <td>f4</td>\n",
       "        <td>g4</td>\n",
       "        <td>h4</td>\n",
       "        <td>e7</td>\n",
       "        <td>f7</td>\n",
       "        <td>g2</td>\n",
       "        <td>h7</td>\n",
       "    </tr>\n",
       "    <tr>\n",
       "        <td>e4</td>\n",
       "        <td>f4</td>\n",
       "        <td>g4</td>\n",
       "        <td>h4</td>\n",
       "        <td>e8</td>\n",
       "        <td>f8</td>\n",
       "        <td>g3</td>\n",
       "        <td>h8</td>\n",
       "    </tr>\n",
       "    <tr>\n",
       "        <td>e4</td>\n",
       "        <td>f4</td>\n",
       "        <td>g4</td>\n",
       "        <td>h4</td>\n",
       "        <td>e9</td>\n",
       "        <td>f9</td>\n",
       "        <td>g4</td>\n",
       "        <td>h9</td>\n",
       "    </tr>\n",
       "    <tr>\n",
       "        <td>e4</td>\n",
       "        <td>f4</td>\n",
       "        <td>g4</td>\n",
       "        <td>h4</td>\n",
       "        <td>e10</td>\n",
       "        <td>f10</td>\n",
       "        <td>g5</td>\n",
       "        <td>h10</td>\n",
       "    </tr>\n",
       "    <tr>\n",
       "        <td>e5</td>\n",
       "        <td>f5</td>\n",
       "        <td>g5</td>\n",
       "        <td>h5</td>\n",
       "        <td>e6</td>\n",
       "        <td>f6</td>\n",
       "        <td>g1</td>\n",
       "        <td>h6</td>\n",
       "    </tr>\n",
       "    <tr>\n",
       "        <td>e5</td>\n",
       "        <td>f5</td>\n",
       "        <td>g5</td>\n",
       "        <td>h5</td>\n",
       "        <td>e7</td>\n",
       "        <td>f7</td>\n",
       "        <td>g2</td>\n",
       "        <td>h7</td>\n",
       "    </tr>\n",
       "    <tr>\n",
       "        <td>e5</td>\n",
       "        <td>f5</td>\n",
       "        <td>g5</td>\n",
       "        <td>h5</td>\n",
       "        <td>e8</td>\n",
       "        <td>f8</td>\n",
       "        <td>g3</td>\n",
       "        <td>h8</td>\n",
       "    </tr>\n",
       "    <tr>\n",
       "        <td>e5</td>\n",
       "        <td>f5</td>\n",
       "        <td>g5</td>\n",
       "        <td>h5</td>\n",
       "        <td>e9</td>\n",
       "        <td>f9</td>\n",
       "        <td>g4</td>\n",
       "        <td>h9</td>\n",
       "    </tr>\n",
       "    <tr>\n",
       "        <td>e5</td>\n",
       "        <td>f5</td>\n",
       "        <td>g5</td>\n",
       "        <td>h5</td>\n",
       "        <td>e10</td>\n",
       "        <td>f10</td>\n",
       "        <td>g5</td>\n",
       "        <td>h10</td>\n",
       "    </tr>\n",
       "</table>"
      ],
      "text/plain": [
       "[('e1', 'f1', 'g1', 'h1', 'e6', 'f6', 'g1', 'h6'),\n",
       " ('e1', 'f1', 'g1', 'h1', 'e7', 'f7', 'g2', 'h7'),\n",
       " ('e1', 'f1', 'g1', 'h1', 'e8', 'f8', 'g3', 'h8'),\n",
       " ('e1', 'f1', 'g1', 'h1', 'e9', 'f9', 'g4', 'h9'),\n",
       " ('e1', 'f1', 'g1', 'h1', 'e10', 'f10', 'g5', 'h10'),\n",
       " ('e2', 'f2', 'g2', 'h2', 'e6', 'f6', 'g1', 'h6'),\n",
       " ('e2', 'f2', 'g2', 'h2', 'e7', 'f7', 'g2', 'h7'),\n",
       " ('e2', 'f2', 'g2', 'h2', 'e8', 'f8', 'g3', 'h8'),\n",
       " ('e2', 'f2', 'g2', 'h2', 'e9', 'f9', 'g4', 'h9'),\n",
       " ('e2', 'f2', 'g2', 'h2', 'e10', 'f10', 'g5', 'h10'),\n",
       " ('e3', 'f3', 'g3', 'h3', 'e6', 'f6', 'g1', 'h6'),\n",
       " ('e3', 'f3', 'g3', 'h3', 'e7', 'f7', 'g2', 'h7'),\n",
       " ('e3', 'f3', 'g3', 'h3', 'e8', 'f8', 'g3', 'h8'),\n",
       " ('e3', 'f3', 'g3', 'h3', 'e9', 'f9', 'g4', 'h9'),\n",
       " ('e3', 'f3', 'g3', 'h3', 'e10', 'f10', 'g5', 'h10'),\n",
       " ('e4', 'f4', 'g4', 'h4', 'e6', 'f6', 'g1', 'h6'),\n",
       " ('e4', 'f4', 'g4', 'h4', 'e7', 'f7', 'g2', 'h7'),\n",
       " ('e4', 'f4', 'g4', 'h4', 'e8', 'f8', 'g3', 'h8'),\n",
       " ('e4', 'f4', 'g4', 'h4', 'e9', 'f9', 'g4', 'h9'),\n",
       " ('e4', 'f4', 'g4', 'h4', 'e10', 'f10', 'g5', 'h10'),\n",
       " ('e5', 'f5', 'g5', 'h5', 'e6', 'f6', 'g1', 'h6'),\n",
       " ('e5', 'f5', 'g5', 'h5', 'e7', 'f7', 'g2', 'h7'),\n",
       " ('e5', 'f5', 'g5', 'h5', 'e8', 'f8', 'g3', 'h8'),\n",
       " ('e5', 'f5', 'g5', 'h5', 'e9', 'f9', 'g4', 'h9'),\n",
       " ('e5', 'f5', 'g5', 'h5', 'e10', 'f10', 'g5', 'h10')]"
      ]
     },
     "execution_count": 73,
     "metadata": {},
     "output_type": "execute_result"
    }
   ],
   "source": [
    "%%sql sqlite://\n",
    "    \n",
    "SELECT\n",
    "    *\n",
    "FROM\n",
    "    Q3FailA, Q3FailB\n",
    "WHERE\n",
    "    Q3FailA.Category_E <> Q3FailB.Category_E"
   ]
  },
  {
   "cell_type": "markdown",
   "metadata": {},
   "source": [
    "Question 4\n",
    "\n",
    "Create a multivalued dependency within the table"
   ]
  },
  {
   "cell_type": "markdown",
   "metadata": {},
   "source": [
    "Deletes the Q4YesR Table (for Debugging)"
   ]
  },
  {
   "cell_type": "code",
   "execution_count": 8,
   "metadata": {},
   "outputs": [
    {
     "name": "stdout",
     "output_type": "stream",
     "text": [
      "(sqlite3.OperationalError) no such table: Q4YesR\n",
      "[SQL: DROP TABLE Q4YesR]\n",
      "(Background on this error at: http://sqlalche.me/e/e3q8)\n"
     ]
    }
   ],
   "source": [
    "%%sql sqlite://\n",
    "\n",
    "DROP TABLE Q4YesR"
   ]
  },
  {
   "cell_type": "markdown",
   "metadata": {},
   "source": [
    "Creates a table that satisfies Question 4"
   ]
  },
  {
   "cell_type": "code",
   "execution_count": 10,
   "metadata": {},
   "outputs": [
    {
     "name": "stdout",
     "output_type": "stream",
     "text": [
      "Done.\n"
     ]
    },
    {
     "data": {
      "text/plain": [
       "[]"
      ]
     },
     "execution_count": 10,
     "metadata": {},
     "output_type": "execute_result"
    }
   ],
   "source": [
    "%%sql sqlite://\n",
    "\n",
    "CREATE TABLE IF NOT EXISTS Q4YesR\n",
    "(\n",
    "    Category_A TEXT,\n",
    "    Category_B TEXT,\n",
    "    Category_C TEXT,\n",
    "    Category_D TEXT,\n",
    "    Category_E TEXT\n",
    ")"
   ]
  },
  {
   "cell_type": "markdown",
   "metadata": {},
   "source": [
    "Populates Q4Yes"
   ]
  },
  {
   "cell_type": "code",
   "execution_count": 11,
   "metadata": {},
   "outputs": [
    {
     "name": "stdout",
     "output_type": "stream",
     "text": [
      "1 rows affected.\n",
      "1 rows affected.\n",
      "1 rows affected.\n",
      "1 rows affected.\n",
      "1 rows affected.\n",
      "1 rows affected.\n"
     ]
    },
    {
     "data": {
      "text/plain": [
       "[]"
      ]
     },
     "execution_count": 11,
     "metadata": {},
     "output_type": "execute_result"
    }
   ],
   "source": [
    "%%sql sqlite://\n",
    "\n",
    "INSERT INTO Q4YesR VALUES (\"a1\", \"b1\", \"c1\", \"d1\", \"e1\");\n",
    "INSERT INTO Q4YesR VALUES (\"a1\", \"b1\", \"c1\", \"d2\", \"e2\");\n",
    "INSERT INTO Q4YesR VALUES (\"a1\", \"b1\", \"c1\", \"d1\", \"e3\");\n",
    "INSERT INTO Q4YesR VALUES (\"a4\", \"b4\", \"c4\", \"d4\", \"e4\");\n",
    "INSERT INTO Q4YesR VALUES (\"a4\", \"b4\", \"c4\", \"d5\", \"e5\");\n",
    "INSERT INTO Q4YesR VALUES (\"a4\", \"b4\", \"c4\", \"d4\", \"e6\");"
   ]
  },
  {
   "cell_type": "markdown",
   "metadata": {},
   "source": [
    "Drops the Q4YesX Table (for Debugging)"
   ]
  },
  {
   "cell_type": "code",
   "execution_count": null,
   "metadata": {},
   "outputs": [],
   "source": [
    "%%sql sqlite://\n",
    "\n",
    "DROP TABLE Q4YesX"
   ]
  },
  {
   "cell_type": "markdown",
   "metadata": {},
   "source": [
    "Creates a domain table that satisfies Question 4"
   ]
  },
  {
   "cell_type": "code",
   "execution_count": 13,
   "metadata": {},
   "outputs": [
    {
     "name": "stdout",
     "output_type": "stream",
     "text": [
      "Done.\n"
     ]
    },
    {
     "data": {
      "text/plain": [
       "[]"
      ]
     },
     "execution_count": 13,
     "metadata": {},
     "output_type": "execute_result"
    }
   ],
   "source": [
    "%%sql sqlite://\n",
    "\n",
    "CREATE TABLE IF NOT EXISTS Q4YesX\n",
    "(\n",
    "    Category_A TEXT,\n",
    "    Category_B TEXT,\n",
    "    Category_C TEXT\n",
    ")"
   ]
  },
  {
   "cell_type": "markdown",
   "metadata": {},
   "source": [
    "Populates the Q4YesX Table"
   ]
  },
  {
   "cell_type": "code",
   "execution_count": 16,
   "metadata": {},
   "outputs": [
    {
     "name": "stdout",
     "output_type": "stream",
     "text": [
      "1 rows affected.\n",
      "1 rows affected.\n",
      "1 rows affected.\n"
     ]
    },
    {
     "data": {
      "text/plain": [
       "[]"
      ]
     },
     "execution_count": 16,
     "metadata": {},
     "output_type": "execute_result"
    }
   ],
   "source": [
    "%%sql sqlite://\n",
    "\n",
    "INSERT INTO Q4YesX VALUES (\"a1\", \"b1\", \"c1\");\n",
    "INSERT INTO Q4YesX VALUES (\"a1\", \"b1\", \"c1\");\n",
    "INSERT INTO Q4YesX VALUES (\"a1\", \"b1\", \"c1\");"
   ]
  },
  {
   "cell_type": "markdown",
   "metadata": {},
   "source": [
    "Drops the Q4YesY Table (for Debugging)"
   ]
  },
  {
   "cell_type": "code",
   "execution_count": 21,
   "metadata": {},
   "outputs": [
    {
     "name": "stdout",
     "output_type": "stream",
     "text": [
      "Done.\n"
     ]
    },
    {
     "data": {
      "text/plain": [
       "[]"
      ]
     },
     "execution_count": 21,
     "metadata": {},
     "output_type": "execute_result"
    }
   ],
   "source": [
    "%%sql sqlite://\n",
    "\n",
    "DROP TABLE Q4YesY"
   ]
  },
  {
   "cell_type": "markdown",
   "metadata": {},
   "source": [
    "Creates a codomain table that satisfies Question 4"
   ]
  },
  {
   "cell_type": "code",
   "execution_count": 22,
   "metadata": {},
   "outputs": [
    {
     "name": "stdout",
     "output_type": "stream",
     "text": [
      "Done.\n"
     ]
    },
    {
     "data": {
      "text/plain": [
       "[]"
      ]
     },
     "execution_count": 22,
     "metadata": {},
     "output_type": "execute_result"
    }
   ],
   "source": [
    "%%sql sqlite://\n",
    "\n",
    "CREATE TABLE IF NOT EXISTS Q4YesY\n",
    "(\n",
    "    Category_C TEXT,\n",
    "    Category_D TEXT,\n",
    "    Category_E TEXT\n",
    ")"
   ]
  },
  {
   "cell_type": "markdown",
   "metadata": {},
   "source": [
    "Populates the Q4YesX Table"
   ]
  },
  {
   "cell_type": "code",
   "execution_count": 23,
   "metadata": {},
   "outputs": [
    {
     "name": "stdout",
     "output_type": "stream",
     "text": [
      "1 rows affected.\n",
      "1 rows affected.\n",
      "1 rows affected.\n"
     ]
    },
    {
     "data": {
      "text/plain": [
       "[]"
      ]
     },
     "execution_count": 23,
     "metadata": {},
     "output_type": "execute_result"
    }
   ],
   "source": [
    "%%sql sqlite://\n",
    "\n",
    "INSERT INTO Q4YesY VALUES (\"c1\", \"d1\", \"e1\");\n",
    "INSERT INTO Q4YesY VALUES (\"c1\", \"d2\", \"e2\");\n",
    "INSERT INTO Q4YesY VALUES (\"c1\", \"d1\", \"e3\");"
   ]
  },
  {
   "cell_type": "markdown",
   "metadata": {},
   "source": [
    "SQL Query to show an MVD holds from Q3YesX to Q3YesY\n",
    "\n",
    "(I can't get this to work sadly)"
   ]
  },
  {
   "cell_type": "code",
   "execution_count": 30,
   "metadata": {},
   "outputs": [
    {
     "name": "stdout",
     "output_type": "stream",
     "text": [
      "Done.\n"
     ]
    },
    {
     "data": {
      "text/html": [
       "<table>\n",
       "    <tr>\n",
       "        <th>Category_A</th>\n",
       "        <th>Category_B</th>\n",
       "        <th>Category_C</th>\n",
       "        <th>Category_D</th>\n",
       "        <th>Category_E</th>\n",
       "        <th>Category_A_1</th>\n",
       "        <th>Category_B_1</th>\n",
       "        <th>Category_C_1</th>\n",
       "        <th>Category_D_1</th>\n",
       "        <th>Category_E_1</th>\n",
       "    </tr>\n",
       "    <tr>\n",
       "        <td>a4</td>\n",
       "        <td>b4</td>\n",
       "        <td>c4</td>\n",
       "        <td>d4</td>\n",
       "        <td>e4</td>\n",
       "        <td>a4</td>\n",
       "        <td>b4</td>\n",
       "        <td>c4</td>\n",
       "        <td>d4</td>\n",
       "        <td>e4</td>\n",
       "    </tr>\n",
       "    <tr>\n",
       "        <td>a4</td>\n",
       "        <td>b4</td>\n",
       "        <td>c4</td>\n",
       "        <td>d4</td>\n",
       "        <td>e4</td>\n",
       "        <td>a4</td>\n",
       "        <td>b4</td>\n",
       "        <td>c4</td>\n",
       "        <td>d4</td>\n",
       "        <td>e6</td>\n",
       "    </tr>\n",
       "    <tr>\n",
       "        <td>a4</td>\n",
       "        <td>b4</td>\n",
       "        <td>c4</td>\n",
       "        <td>d4</td>\n",
       "        <td>e4</td>\n",
       "        <td>a4</td>\n",
       "        <td>b4</td>\n",
       "        <td>c4</td>\n",
       "        <td>d5</td>\n",
       "        <td>e5</td>\n",
       "    </tr>\n",
       "    <tr>\n",
       "        <td>a4</td>\n",
       "        <td>b4</td>\n",
       "        <td>c4</td>\n",
       "        <td>d5</td>\n",
       "        <td>e5</td>\n",
       "        <td>a4</td>\n",
       "        <td>b4</td>\n",
       "        <td>c4</td>\n",
       "        <td>d4</td>\n",
       "        <td>e4</td>\n",
       "    </tr>\n",
       "    <tr>\n",
       "        <td>a4</td>\n",
       "        <td>b4</td>\n",
       "        <td>c4</td>\n",
       "        <td>d5</td>\n",
       "        <td>e5</td>\n",
       "        <td>a4</td>\n",
       "        <td>b4</td>\n",
       "        <td>c4</td>\n",
       "        <td>d4</td>\n",
       "        <td>e6</td>\n",
       "    </tr>\n",
       "    <tr>\n",
       "        <td>a4</td>\n",
       "        <td>b4</td>\n",
       "        <td>c4</td>\n",
       "        <td>d5</td>\n",
       "        <td>e5</td>\n",
       "        <td>a4</td>\n",
       "        <td>b4</td>\n",
       "        <td>c4</td>\n",
       "        <td>d5</td>\n",
       "        <td>e5</td>\n",
       "    </tr>\n",
       "    <tr>\n",
       "        <td>a4</td>\n",
       "        <td>b4</td>\n",
       "        <td>c4</td>\n",
       "        <td>d4</td>\n",
       "        <td>e6</td>\n",
       "        <td>a4</td>\n",
       "        <td>b4</td>\n",
       "        <td>c4</td>\n",
       "        <td>d4</td>\n",
       "        <td>e4</td>\n",
       "    </tr>\n",
       "    <tr>\n",
       "        <td>a4</td>\n",
       "        <td>b4</td>\n",
       "        <td>c4</td>\n",
       "        <td>d4</td>\n",
       "        <td>e6</td>\n",
       "        <td>a4</td>\n",
       "        <td>b4</td>\n",
       "        <td>c4</td>\n",
       "        <td>d4</td>\n",
       "        <td>e6</td>\n",
       "    </tr>\n",
       "    <tr>\n",
       "        <td>a4</td>\n",
       "        <td>b4</td>\n",
       "        <td>c4</td>\n",
       "        <td>d4</td>\n",
       "        <td>e6</td>\n",
       "        <td>a4</td>\n",
       "        <td>b4</td>\n",
       "        <td>c4</td>\n",
       "        <td>d5</td>\n",
       "        <td>e5</td>\n",
       "    </tr>\n",
       "</table>"
      ],
      "text/plain": [
       "[('a4', 'b4', 'c4', 'd4', 'e4', 'a4', 'b4', 'c4', 'd4', 'e4'),\n",
       " ('a4', 'b4', 'c4', 'd4', 'e4', 'a4', 'b4', 'c4', 'd4', 'e6'),\n",
       " ('a4', 'b4', 'c4', 'd4', 'e4', 'a4', 'b4', 'c4', 'd5', 'e5'),\n",
       " ('a4', 'b4', 'c4', 'd5', 'e5', 'a4', 'b4', 'c4', 'd4', 'e4'),\n",
       " ('a4', 'b4', 'c4', 'd5', 'e5', 'a4', 'b4', 'c4', 'd4', 'e6'),\n",
       " ('a4', 'b4', 'c4', 'd5', 'e5', 'a4', 'b4', 'c4', 'd5', 'e5'),\n",
       " ('a4', 'b4', 'c4', 'd4', 'e6', 'a4', 'b4', 'c4', 'd4', 'e4'),\n",
       " ('a4', 'b4', 'c4', 'd4', 'e6', 'a4', 'b4', 'c4', 'd4', 'e6'),\n",
       " ('a4', 'b4', 'c4', 'd4', 'e6', 'a4', 'b4', 'c4', 'd5', 'e5')]"
      ]
     },
     "execution_count": 30,
     "metadata": {},
     "output_type": "execute_result"
    }
   ],
   "source": [
    "%%sql sqlite://\n",
    "    \n",
    "SELECT\n",
    "    *\n",
    "FROM\n",
    "    Q4YesR, Q4YesR as Q4YesRB\n",
    "WHERE\n",
    "    (Q4YesR.Category_B = Q4YesRB.Category_B) AND\n",
    "    Q4YesR.Category_B NOT IN\n",
    "    (\n",
    "    SELECT\n",
    "        Q4YesX.Category_B\n",
    "    FROM\n",
    "        Q4YesX, Q4YesX as Q4YesXB\n",
    "    WHERE\n",
    "        Q4YesX.Category_B = Q4YesXB.Category_B\n",
    "    )"
   ]
  },
  {
   "cell_type": "markdown",
   "metadata": {},
   "source": [
    "Deletes Table Q4Fail (for Debugging)"
   ]
  },
  {
   "cell_type": "code",
   "execution_count": 31,
   "metadata": {},
   "outputs": [
    {
     "name": "stdout",
     "output_type": "stream",
     "text": [
      "(sqlite3.OperationalError) no such table: Q4FailR\n",
      "[SQL: DROP TABLE Q4FailR]\n",
      "(Background on this error at: http://sqlalche.me/e/e3q8)\n"
     ]
    }
   ],
   "source": [
    "%%sql sqlite://\n",
    "\n",
    "DROP TABLE Q4FailR"
   ]
  },
  {
   "cell_type": "markdown",
   "metadata": {},
   "source": [
    "Creates a table that does not satisfy Question 4"
   ]
  },
  {
   "cell_type": "code",
   "execution_count": 32,
   "metadata": {},
   "outputs": [
    {
     "name": "stdout",
     "output_type": "stream",
     "text": [
      "Done.\n"
     ]
    },
    {
     "data": {
      "text/plain": [
       "[]"
      ]
     },
     "execution_count": 32,
     "metadata": {},
     "output_type": "execute_result"
    }
   ],
   "source": [
    "%%sql sqlite://\n",
    "\n",
    "CREATE TABLE IF NOT EXISTS Q4FailR\n",
    "(\n",
    "    Category_A TEXT,\n",
    "    Category_B TEXT,\n",
    "    Category_C TEXT,\n",
    "    Category_D TEXT,\n",
    "    Category_E TEXT\n",
    ")"
   ]
  },
  {
   "cell_type": "markdown",
   "metadata": {},
   "source": [
    "Populates Q4Fail"
   ]
  },
  {
   "cell_type": "code",
   "execution_count": 33,
   "metadata": {},
   "outputs": [
    {
     "name": "stdout",
     "output_type": "stream",
     "text": [
      "1 rows affected.\n",
      "1 rows affected.\n",
      "1 rows affected.\n",
      "1 rows affected.\n",
      "1 rows affected.\n",
      "1 rows affected.\n"
     ]
    },
    {
     "data": {
      "text/plain": [
       "[]"
      ]
     },
     "execution_count": 33,
     "metadata": {},
     "output_type": "execute_result"
    }
   ],
   "source": [
    "%%sql sqlite://\n",
    "\n",
    "INSERT INTO Q4FailR VALUES (\"a1\", \"b1\", \"c1\", \"d1\", \"e1\");\n",
    "INSERT INTO Q4FailR VALUES (\"a1\", \"b1\", \"c1\", \"d2\", \"e2\");\n",
    "INSERT INTO Q4FailR VALUES (\"a3\", \"b3\", \"c3\", \"d3\", \"e3\");\n",
    "INSERT INTO Q4FailR VALUES (\"a4\", \"b4\", \"c4\", \"d4\", \"e4\");\n",
    "INSERT INTO Q4FailR VALUES (\"a4\", \"b4\", \"c5\", \"d5\", \"e5\");\n",
    "INSERT INTO Q4FailR VALUES (\"a6\", \"b6\", \"c6\", \"d6\", \"e6\");"
   ]
  },
  {
   "cell_type": "markdown",
   "metadata": {},
   "source": [
    "Drops Q4FailX (for Debugging)"
   ]
  },
  {
   "cell_type": "code",
   "execution_count": null,
   "metadata": {},
   "outputs": [],
   "source": [
    "%%sql sqlite://\n",
    "\n",
    "DROP TABLE Q4YesX"
   ]
  },
  {
   "cell_type": "markdown",
   "metadata": {},
   "source": [
    "Creates domain for a failed MVD"
   ]
  },
  {
   "cell_type": "code",
   "execution_count": 36,
   "metadata": {},
   "outputs": [
    {
     "name": "stdout",
     "output_type": "stream",
     "text": [
      "Done.\n"
     ]
    },
    {
     "data": {
      "text/plain": [
       "[]"
      ]
     },
     "execution_count": 36,
     "metadata": {},
     "output_type": "execute_result"
    }
   ],
   "source": [
    "%%sql sqlite://\n",
    "\n",
    "CREATE TABLE IF NOT EXISTS Q4FailX\n",
    "(\n",
    "    Category_A TEXT,\n",
    "    Category_B TEXT,\n",
    "    Category_C TEXT\n",
    ")"
   ]
  },
  {
   "cell_type": "markdown",
   "metadata": {},
   "source": [
    "Populates Q4FailX"
   ]
  },
  {
   "cell_type": "code",
   "execution_count": 38,
   "metadata": {},
   "outputs": [
    {
     "name": "stdout",
     "output_type": "stream",
     "text": [
      "1 rows affected.\n",
      "1 rows affected.\n",
      "1 rows affected.\n",
      "1 rows affected.\n",
      "1 rows affected.\n",
      "1 rows affected.\n"
     ]
    },
    {
     "data": {
      "text/plain": [
       "[]"
      ]
     },
     "execution_count": 38,
     "metadata": {},
     "output_type": "execute_result"
    }
   ],
   "source": [
    "%%sql sqlite://\n",
    "\n",
    "INSERT INTO Q4FailX VALUES (\"a1\", \"b1\", \"c1\");\n",
    "INSERT INTO Q4FailX VALUES (\"a1\", \"b1\", \"c1\");\n",
    "INSERT INTO Q4FailX VALUES (\"a3\", \"b3\", \"c3\");\n",
    "INSERT INTO Q4FailX VALUES (\"a4\", \"b4\", \"c4\");\n",
    "INSERT INTO Q4FailX VALUES (\"a4\", \"b4\", \"c5\");\n",
    "INSERT INTO Q4FailX VALUES (\"a6\", \"b6\", \"c6\");"
   ]
  },
  {
   "cell_type": "markdown",
   "metadata": {},
   "source": [
    "Drops Q4FailY (for Debugging)"
   ]
  },
  {
   "cell_type": "code",
   "execution_count": 39,
   "metadata": {},
   "outputs": [
    {
     "name": "stdout",
     "output_type": "stream",
     "text": [
      "Done.\n"
     ]
    },
    {
     "data": {
      "text/plain": [
       "[]"
      ]
     },
     "execution_count": 39,
     "metadata": {},
     "output_type": "execute_result"
    }
   ],
   "source": [
    "%%sql sqlite://\n",
    "\n",
    "DROP TABLE Q4YesY"
   ]
  },
  {
   "cell_type": "markdown",
   "metadata": {},
   "source": [
    "Creates codomain for a failed MVD"
   ]
  },
  {
   "cell_type": "code",
   "execution_count": 40,
   "metadata": {},
   "outputs": [
    {
     "name": "stdout",
     "output_type": "stream",
     "text": [
      "Done.\n"
     ]
    },
    {
     "data": {
      "text/plain": [
       "[]"
      ]
     },
     "execution_count": 40,
     "metadata": {},
     "output_type": "execute_result"
    }
   ],
   "source": [
    "%%sql sqlite://\n",
    "\n",
    "CREATE TABLE IF NOT EXISTS Q4FailY\n",
    "(\n",
    "    Category_C TEXT,\n",
    "    Category_D TEXT,\n",
    "    Category_E TEXT\n",
    ")"
   ]
  },
  {
   "cell_type": "markdown",
   "metadata": {},
   "source": [
    "Populates Q4FailY"
   ]
  },
  {
   "cell_type": "code",
   "execution_count": 41,
   "metadata": {},
   "outputs": [
    {
     "name": "stdout",
     "output_type": "stream",
     "text": [
      "1 rows affected.\n",
      "1 rows affected.\n",
      "1 rows affected.\n",
      "1 rows affected.\n",
      "1 rows affected.\n",
      "1 rows affected.\n"
     ]
    },
    {
     "data": {
      "text/plain": [
       "[]"
      ]
     },
     "execution_count": 41,
     "metadata": {},
     "output_type": "execute_result"
    }
   ],
   "source": [
    "%%sql sqlite://\n",
    "\n",
    "INSERT INTO Q4FailY VALUES (\"c1\", \"d1\", \"e1\");\n",
    "INSERT INTO Q4FailY VALUES (\"c1\", \"d2\", \"e2\");\n",
    "INSERT INTO Q4FailY VALUES (\"c3\", \"d3\", \"e3\");\n",
    "INSERT INTO Q4FailY VALUES (\"c4\", \"d4\", \"e4\");\n",
    "INSERT INTO Q4FailY VALUES (\"c5\", \"d5\", \"e5\");\n",
    "INSERT INTO Q4FailY VALUES (\"c6\", \"d6\", \"e6\");"
   ]
  },
  {
   "cell_type": "markdown",
   "metadata": {},
   "source": [
    "SQL Query to show an MVD holds from Q3YesX to Q3YesY\n",
    "\n",
    "(I can't get this to work sadly)"
   ]
  },
  {
   "cell_type": "code",
   "execution_count": 42,
   "metadata": {},
   "outputs": [
    {
     "name": "stdout",
     "output_type": "stream",
     "text": [
      "Done.\n"
     ]
    },
    {
     "data": {
      "text/html": [
       "<table>\n",
       "    <tr>\n",
       "        <th>Category_A</th>\n",
       "        <th>Category_B</th>\n",
       "        <th>Category_C</th>\n",
       "        <th>Category_D</th>\n",
       "        <th>Category_E</th>\n",
       "        <th>Category_A_1</th>\n",
       "        <th>Category_B_1</th>\n",
       "        <th>Category_C_1</th>\n",
       "        <th>Category_D_1</th>\n",
       "        <th>Category_E_1</th>\n",
       "    </tr>\n",
       "    <tr>\n",
       "        <td>a4</td>\n",
       "        <td>b4</td>\n",
       "        <td>c4</td>\n",
       "        <td>d4</td>\n",
       "        <td>e4</td>\n",
       "        <td>a4</td>\n",
       "        <td>b4</td>\n",
       "        <td>c4</td>\n",
       "        <td>d4</td>\n",
       "        <td>e4</td>\n",
       "    </tr>\n",
       "    <tr>\n",
       "        <td>a4</td>\n",
       "        <td>b4</td>\n",
       "        <td>c4</td>\n",
       "        <td>d4</td>\n",
       "        <td>e4</td>\n",
       "        <td>a4</td>\n",
       "        <td>b4</td>\n",
       "        <td>c4</td>\n",
       "        <td>d4</td>\n",
       "        <td>e6</td>\n",
       "    </tr>\n",
       "    <tr>\n",
       "        <td>a4</td>\n",
       "        <td>b4</td>\n",
       "        <td>c4</td>\n",
       "        <td>d4</td>\n",
       "        <td>e4</td>\n",
       "        <td>a4</td>\n",
       "        <td>b4</td>\n",
       "        <td>c4</td>\n",
       "        <td>d5</td>\n",
       "        <td>e5</td>\n",
       "    </tr>\n",
       "    <tr>\n",
       "        <td>a4</td>\n",
       "        <td>b4</td>\n",
       "        <td>c4</td>\n",
       "        <td>d5</td>\n",
       "        <td>e5</td>\n",
       "        <td>a4</td>\n",
       "        <td>b4</td>\n",
       "        <td>c4</td>\n",
       "        <td>d4</td>\n",
       "        <td>e4</td>\n",
       "    </tr>\n",
       "    <tr>\n",
       "        <td>a4</td>\n",
       "        <td>b4</td>\n",
       "        <td>c4</td>\n",
       "        <td>d5</td>\n",
       "        <td>e5</td>\n",
       "        <td>a4</td>\n",
       "        <td>b4</td>\n",
       "        <td>c4</td>\n",
       "        <td>d4</td>\n",
       "        <td>e6</td>\n",
       "    </tr>\n",
       "    <tr>\n",
       "        <td>a4</td>\n",
       "        <td>b4</td>\n",
       "        <td>c4</td>\n",
       "        <td>d5</td>\n",
       "        <td>e5</td>\n",
       "        <td>a4</td>\n",
       "        <td>b4</td>\n",
       "        <td>c4</td>\n",
       "        <td>d5</td>\n",
       "        <td>e5</td>\n",
       "    </tr>\n",
       "    <tr>\n",
       "        <td>a4</td>\n",
       "        <td>b4</td>\n",
       "        <td>c4</td>\n",
       "        <td>d4</td>\n",
       "        <td>e6</td>\n",
       "        <td>a4</td>\n",
       "        <td>b4</td>\n",
       "        <td>c4</td>\n",
       "        <td>d4</td>\n",
       "        <td>e4</td>\n",
       "    </tr>\n",
       "    <tr>\n",
       "        <td>a4</td>\n",
       "        <td>b4</td>\n",
       "        <td>c4</td>\n",
       "        <td>d4</td>\n",
       "        <td>e6</td>\n",
       "        <td>a4</td>\n",
       "        <td>b4</td>\n",
       "        <td>c4</td>\n",
       "        <td>d4</td>\n",
       "        <td>e6</td>\n",
       "    </tr>\n",
       "    <tr>\n",
       "        <td>a4</td>\n",
       "        <td>b4</td>\n",
       "        <td>c4</td>\n",
       "        <td>d4</td>\n",
       "        <td>e6</td>\n",
       "        <td>a4</td>\n",
       "        <td>b4</td>\n",
       "        <td>c4</td>\n",
       "        <td>d5</td>\n",
       "        <td>e5</td>\n",
       "    </tr>\n",
       "</table>"
      ],
      "text/plain": [
       "[('a4', 'b4', 'c4', 'd4', 'e4', 'a4', 'b4', 'c4', 'd4', 'e4'),\n",
       " ('a4', 'b4', 'c4', 'd4', 'e4', 'a4', 'b4', 'c4', 'd4', 'e6'),\n",
       " ('a4', 'b4', 'c4', 'd4', 'e4', 'a4', 'b4', 'c4', 'd5', 'e5'),\n",
       " ('a4', 'b4', 'c4', 'd5', 'e5', 'a4', 'b4', 'c4', 'd4', 'e4'),\n",
       " ('a4', 'b4', 'c4', 'd5', 'e5', 'a4', 'b4', 'c4', 'd4', 'e6'),\n",
       " ('a4', 'b4', 'c4', 'd5', 'e5', 'a4', 'b4', 'c4', 'd5', 'e5'),\n",
       " ('a4', 'b4', 'c4', 'd4', 'e6', 'a4', 'b4', 'c4', 'd4', 'e4'),\n",
       " ('a4', 'b4', 'c4', 'd4', 'e6', 'a4', 'b4', 'c4', 'd4', 'e6'),\n",
       " ('a4', 'b4', 'c4', 'd4', 'e6', 'a4', 'b4', 'c4', 'd5', 'e5')]"
      ]
     },
     "execution_count": 42,
     "metadata": {},
     "output_type": "execute_result"
    }
   ],
   "source": [
    "%%sql sqlite://\n",
    "    \n",
    "SELECT\n",
    "    *\n",
    "FROM\n",
    "    Q4YesR, Q4YesR as Q4YesRB\n",
    "WHERE\n",
    "    (Q4YesR.Category_B = Q4YesRB.Category_B) AND\n",
    "    Q4YesR.Category_B NOT IN\n",
    "    (\n",
    "    SELECT\n",
    "        Q4YesX.Category_B\n",
    "    FROM\n",
    "        Q4YesX, Q4YesX as Q4YesXB\n",
    "    WHERE\n",
    "        Q4YesX.Category_B = Q4YesXB.Category_B\n",
    "    )"
   ]
  },
  {
   "cell_type": "code",
   "execution_count": null,
   "metadata": {},
   "outputs": [],
   "source": []
  }
 ],
 "metadata": {
  "kernelspec": {
   "display_name": "Python 3",
   "language": "python",
   "name": "python3"
  },
  "language_info": {
   "codemirror_mode": {
    "name": "ipython",
    "version": 3
   },
   "file_extension": ".py",
   "mimetype": "text/x-python",
   "name": "python",
   "nbconvert_exporter": "python",
   "pygments_lexer": "ipython3",
   "version": "3.7.1"
  }
 },
 "nbformat": 4,
 "nbformat_minor": 2
}
