{
 "cells": [
  {
   "cell_type": "code",
   "execution_count": 1,
   "metadata": {},
   "outputs": [],
   "source": [
    "%load_ext sql"
   ]
  },
  {
   "cell_type": "markdown",
   "metadata": {},
   "source": [
    "Connects to database file specified by :///filename.db3, as per Question 1"
   ]
  },
  {
   "cell_type": "code",
   "execution_count": 2,
   "metadata": {},
   "outputs": [
    {
     "data": {
      "text/plain": [
       "'Connected: @lab2.db3'"
      ]
     },
     "execution_count": 2,
     "metadata": {},
     "output_type": "execute_result"
    }
   ],
   "source": [
    "%sql sqlite:///lab2.db3"
   ]
  },
  {
   "cell_type": "markdown",
   "metadata": {},
   "source": [
    "Removes the tables; added for easier debugging"
   ]
  },
  {
   "cell_type": "code",
   "execution_count": 3,
   "metadata": {},
   "outputs": [
    {
     "name": "stdout",
     "output_type": "stream",
     "text": [
      "Done.\n",
      "Done.\n",
      "Done.\n"
     ]
    },
    {
     "data": {
      "text/plain": [
       "[]"
      ]
     },
     "execution_count": 3,
     "metadata": {},
     "output_type": "execute_result"
    }
   ],
   "source": [
    "%%sql sqlite://\n",
    "    DROP TABLE sailors;\n",
    "    DROP TABLE boats;\n",
    "    DROP TABLE reserves;"
   ]
  },
  {
   "cell_type": "markdown",
   "metadata": {},
   "source": [
    "Creates the tables, as per Question 2"
   ]
  },
  {
   "cell_type": "code",
   "execution_count": 4,
   "metadata": {},
   "outputs": [
    {
     "name": "stdout",
     "output_type": "stream",
     "text": [
      "Done.\n",
      "Done.\n",
      "Done.\n"
     ]
    },
    {
     "data": {
      "text/plain": [
       "[]"
      ]
     },
     "execution_count": 4,
     "metadata": {},
     "output_type": "execute_result"
    }
   ],
   "source": [
    "%%sql sqlite://\n",
    "    CREATE TABLE IF NOT EXISTS sailors(\n",
    "        sailor_id int UNIQUE,\n",
    "        sailor_name VARCHAR (50),\n",
    "        rating int,\n",
    "        age DECIMAL(3, 1),\n",
    "        PRIMARY KEY (sailor_id)\n",
    "    );\n",
    "    CREATE TABLE IF NOT EXISTS boats(\n",
    "        boat_id int UNIQUE,\n",
    "        boat_name VARCHAR (50),\n",
    "        color VARCHAR (50),\n",
    "        PRIMARY KEY (boat_id)\n",
    "        \n",
    "    );\n",
    "    CREATE TABLE IF NOT EXISTS reserves(\n",
    "        transaction_id VARCHAR(50) UNIQUE,\n",
    "        sailor_id int,\n",
    "        boat_id int,\n",
    "        day VARCHAR(50),\n",
    "        PRIMARY KEY (transaction_id)\n",
    "    );"
   ]
  },
  {
   "cell_type": "markdown",
   "metadata": {},
   "source": [
    "Inserts records into the sailors table, as per Question 2"
   ]
  },
  {
   "cell_type": "code",
   "execution_count": 5,
   "metadata": {},
   "outputs": [
    {
     "name": "stdout",
     "output_type": "stream",
     "text": [
      "1 rows affected.\n",
      "1 rows affected.\n",
      "1 rows affected.\n"
     ]
    },
    {
     "data": {
      "text/plain": [
       "[]"
      ]
     },
     "execution_count": 5,
     "metadata": {},
     "output_type": "execute_result"
    }
   ],
   "source": [
    "%%sql sqlite:///\n",
    "    INSERT INTO sailors VALUES(22, \"dustin\", 7, 45.0);\n",
    "    INSERT INTO sailors VALUES(31, \"lubber\", 8, 55.5);\n",
    "    INSERT INTO sailors VALUES(58, \"rusty\", 10, 35.0);"
   ]
  },
  {
   "cell_type": "markdown",
   "metadata": {},
   "source": [
    "Inserts records into the boats table, as per Question 2"
   ]
  },
  {
   "cell_type": "code",
   "execution_count": 6,
   "metadata": {},
   "outputs": [
    {
     "name": "stdout",
     "output_type": "stream",
     "text": [
      "1 rows affected.\n",
      "1 rows affected.\n"
     ]
    },
    {
     "data": {
      "text/plain": [
       "[]"
      ]
     },
     "execution_count": 6,
     "metadata": {},
     "output_type": "execute_result"
    }
   ],
   "source": [
    "%%sql sqlite:///    \n",
    "    INSERT INTO boats VALUES(101, \"interlake\", \"red\");\n",
    "    INSERT INTO boats VALUES(103, \"clipper\", \"green\");"
   ]
  },
  {
   "cell_type": "markdown",
   "metadata": {},
   "source": [
    "Inserts records into the reserves table, as per Question 2"
   ]
  },
  {
   "cell_type": "code",
   "execution_count": 7,
   "metadata": {},
   "outputs": [
    {
     "name": "stdout",
     "output_type": "stream",
     "text": [
      "1 rows affected.\n",
      "1 rows affected.\n"
     ]
    },
    {
     "data": {
      "text/plain": [
       "[]"
      ]
     },
     "execution_count": 7,
     "metadata": {},
     "output_type": "execute_result"
    }
   ],
   "source": [
    "%%sql sqlite:///    \n",
    "    INSERT INTO reserves VALUES(1, 22, 101, \"10/10/96\");\n",
    "    INSERT INTO reserves VALUES(2, 58, 103, \"11/12/96\");"
   ]
  },
  {
   "cell_type": "markdown",
   "metadata": {},
   "source": [
    "Returns names of sailors who reserved boat #103, as per Question 3"
   ]
  },
  {
   "cell_type": "code",
   "execution_count": 8,
   "metadata": {},
   "outputs": [
    {
     "name": "stdout",
     "output_type": "stream",
     "text": [
      "Done.\n"
     ]
    },
    {
     "data": {
      "text/html": [
       "<table>\n",
       "    <tr>\n",
       "        <th>sailor_name</th>\n",
       "    </tr>\n",
       "    <tr>\n",
       "        <td>rusty</td>\n",
       "    </tr>\n",
       "</table>"
      ],
      "text/plain": [
       "[('rusty',)]"
      ]
     },
     "execution_count": 8,
     "metadata": {},
     "output_type": "execute_result"
    }
   ],
   "source": [
    "%%sql sqlite:///\n",
    "    SELECT sailor_name\n",
    "    FROM sailors\n",
    "    JOIN reserves\n",
    "    ON sailors.sailor_id = reserves.sailor_id\n",
    "    AND reserves.boat_id = 103;"
   ]
  },
  {
   "cell_type": "markdown",
   "metadata": {},
   "source": [
    "Returns names of sailors who reserved a red boat, as per Question 4"
   ]
  },
  {
   "cell_type": "code",
   "execution_count": 9,
   "metadata": {},
   "outputs": [
    {
     "name": "stdout",
     "output_type": "stream",
     "text": [
      "Done.\n"
     ]
    },
    {
     "data": {
      "text/html": [
       "<table>\n",
       "    <tr>\n",
       "        <th>sailor_name</th>\n",
       "    </tr>\n",
       "    <tr>\n",
       "        <td>dustin</td>\n",
       "    </tr>\n",
       "</table>"
      ],
      "text/plain": [
       "[('dustin',)]"
      ]
     },
     "execution_count": 9,
     "metadata": {},
     "output_type": "execute_result"
    }
   ],
   "source": [
    "%%sql sqlite://\n",
    "    SELECT sailor_name\n",
    "        FROM sailors\n",
    "        JOIN reserves\n",
    "            ON sailors.sailor_id = reserves.sailor_id\n",
    "        JOIN boats\n",
    "            ON reserves.boat_id = boats.boat_id\n",
    "            AND boats.color = \"red\";"
   ]
  },
  {
   "cell_type": "markdown",
   "metadata": {},
   "source": [
    " Returns names of sailors who’ve reserved a red or a green boat, as per Question 5"
   ]
  },
  {
   "cell_type": "code",
   "execution_count": 10,
   "metadata": {},
   "outputs": [
    {
     "name": "stdout",
     "output_type": "stream",
     "text": [
      "Done.\n"
     ]
    },
    {
     "data": {
      "text/html": [
       "<table>\n",
       "    <tr>\n",
       "        <th>sailor_name</th>\n",
       "    </tr>\n",
       "    <tr>\n",
       "        <td>dustin</td>\n",
       "    </tr>\n",
       "    <tr>\n",
       "        <td>rusty</td>\n",
       "    </tr>\n",
       "</table>"
      ],
      "text/plain": [
       "[('dustin',), ('rusty',)]"
      ]
     },
     "execution_count": 10,
     "metadata": {},
     "output_type": "execute_result"
    }
   ],
   "source": [
    "%%sql sqlite://\n",
    "    SELECT sailor_name\n",
    "        FROM sailors\n",
    "        JOIN reserves\n",
    "            ON sailors.sailor_id = reserves.sailor_id\n",
    "        JOIN boats\n",
    "            ON reserves.boat_id = boats.boat_id\n",
    "            AND (boats.color = \"red\" OR boats.color = \"green\");"
   ]
  },
  {
   "cell_type": "markdown",
   "metadata": {},
   "source": [
    " Returns names of sailors who’ve reserved a red and a green boat, as per Question 6"
   ]
  },
  {
   "cell_type": "code",
   "execution_count": 11,
   "metadata": {},
   "outputs": [
    {
     "name": "stdout",
     "output_type": "stream",
     "text": [
      "Done.\n"
     ]
    },
    {
     "data": {
      "text/html": [
       "<table>\n",
       "    <tr>\n",
       "        <th>sailor_name</th>\n",
       "    </tr>\n",
       "</table>"
      ],
      "text/plain": [
       "[]"
      ]
     },
     "execution_count": 11,
     "metadata": {},
     "output_type": "execute_result"
    }
   ],
   "source": [
    "%%sql sqlite://\n",
    "    SELECT sailor_name\n",
    "        FROM sailors\n",
    "        JOIN reserves\n",
    "            ON sailors.sailor_id = reserves.sailor_id\n",
    "        JOIN boats\n",
    "            ON reserves.boat_id = boats.boat_id\n",
    "            AND (boats.color = \"red\" AND boats.color = \"green\");"
   ]
  },
  {
   "cell_type": "markdown",
   "metadata": {},
   "source": [
    " Returns names of sailors who’ve only reserved a red boat, as per Question 7. \n",
    " NOT (NOT IN (attribute)) gives us only that attribute"
   ]
  },
  {
   "cell_type": "code",
   "execution_count": 13,
   "metadata": {},
   "outputs": [
    {
     "name": "stdout",
     "output_type": "stream",
     "text": [
      "Done.\n"
     ]
    },
    {
     "data": {
      "text/html": [
       "<table>\n",
       "    <tr>\n",
       "        <th>sailor_name</th>\n",
       "    </tr>\n",
       "    <tr>\n",
       "        <td>dustin</td>\n",
       "    </tr>\n",
       "</table>"
      ],
      "text/plain": [
       "[('dustin',)]"
      ]
     },
     "execution_count": 13,
     "metadata": {},
     "output_type": "execute_result"
    }
   ],
   "source": [
    "%%sql sqlite://\n",
    "    SELECT sailor_name\n",
    "        FROM sailors\n",
    "        JOIN reserves\n",
    "            ON sailors.sailor_id = reserves.sailor_id\n",
    "        JOIN boats\n",
    "            ON reserves.boat_id = boats.boat_id\n",
    "            AND NOT (boats.color NOT IN (\"red\"))"
   ]
  },
  {
   "cell_type": "code",
   "execution_count": null,
   "metadata": {},
   "outputs": [],
   "source": []
  }
 ],
 "metadata": {
  "kernelspec": {
   "display_name": "Python 3",
   "language": "python",
   "name": "python3"
  },
  "language_info": {
   "codemirror_mode": {
    "name": "ipython",
    "version": 3
   },
   "file_extension": ".py",
   "mimetype": "text/x-python",
   "name": "python",
   "nbconvert_exporter": "python",
   "pygments_lexer": "ipython3",
   "version": "3.7.1"
  }
 },
 "nbformat": 4,
 "nbformat_minor": 2
}
