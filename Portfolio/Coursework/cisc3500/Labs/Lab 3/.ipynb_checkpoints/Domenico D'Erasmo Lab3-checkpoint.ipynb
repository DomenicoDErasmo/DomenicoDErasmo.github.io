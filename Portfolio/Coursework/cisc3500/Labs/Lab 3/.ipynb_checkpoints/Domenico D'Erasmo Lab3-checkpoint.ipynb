{
 "cells": [
  {
   "cell_type": "code",
   "execution_count": 1,
   "metadata": {},
   "outputs": [],
   "source": [
    "%load_ext sql"
   ]
  },
  {
   "cell_type": "code",
   "execution_count": 2,
   "metadata": {},
   "outputs": [
    {
     "data": {
      "text/plain": [
       "'Connected: @lab3.db3'"
      ]
     },
     "execution_count": 2,
     "metadata": {},
     "output_type": "execute_result"
    }
   ],
   "source": [
    "%sql sqlite:///lab3.db3"
   ]
  },
  {
   "cell_type": "markdown",
   "metadata": {},
   "source": [
    "Displays all Tables"
   ]
  },
  {
   "cell_type": "code",
   "execution_count": 3,
   "metadata": {},
   "outputs": [
    {
     "name": "stdout",
     "output_type": "stream",
     "text": [
      "Done.\n"
     ]
    },
    {
     "data": {
      "text/html": [
       "<table>\n",
       "    <tr>\n",
       "        <th>name</th>\n",
       "    </tr>\n",
       "    <tr>\n",
       "        <td>students</td>\n",
       "    </tr>\n",
       "    <tr>\n",
       "        <td>courses</td>\n",
       "    </tr>\n",
       "    <tr>\n",
       "        <td>scores</td>\n",
       "    </tr>\n",
       "    <tr>\n",
       "        <td>teachers</td>\n",
       "    </tr>\n",
       "</table>"
      ],
      "text/plain": [
       "[('students',), ('courses',), ('scores',), ('teachers',)]"
      ]
     },
     "execution_count": 3,
     "metadata": {},
     "output_type": "execute_result"
    }
   ],
   "source": [
    "%%sql sqlite://\n",
    "\n",
    "SELECT \n",
    "    name\n",
    "FROM \n",
    "    sqlite_master\n",
    "WHERE \n",
    "    type = 'table' AND\n",
    "    name NOT LIKE 'sqlite_%'"
   ]
  },
  {
   "cell_type": "markdown",
   "metadata": {},
   "source": [
    "lab3.db3 has four tables:\n",
    "\n",
    "students (sno, sname, sgender, sbirthday, class)\n",
    "\n",
    "courses (cno, cname, tno)\n",
    "\n",
    "scores (sno, cno, grade)\n",
    "\n",
    "teachers (tno, tname, tgender, tbirthday, title, department)"
   ]
  },
  {
   "cell_type": "markdown",
   "metadata": {},
   "source": [
    "Question 1:\n",
    "\n",
    "In the score table, find the student number that has all the grades in between 90 and 70."
   ]
  },
  {
   "cell_type": "markdown",
   "metadata": {},
   "source": [
    "Answer 1:\n",
    "\n",
    "1. Goal: We want the student number. This is in students and scores\n",
    "2. Constraints: MAX(grade) < 90, MIN (grade) > 70. grade is in scores\n",
    "3. We will use HAVING"
   ]
  },
  {
   "cell_type": "code",
   "execution_count": 4,
   "metadata": {},
   "outputs": [
    {
     "name": "stdout",
     "output_type": "stream",
     "text": [
      "Done.\n"
     ]
    },
    {
     "data": {
      "text/html": [
       "<table>\n",
       "    <tr>\n",
       "        <th>sno</th>\n",
       "    </tr>\n",
       "    <tr>\n",
       "        <td>105</td>\n",
       "    </tr>\n",
       "    <tr>\n",
       "        <td>108</td>\n",
       "    </tr>\n",
       "</table>"
      ],
      "text/plain": [
       "[('105',), ('108',)]"
      ]
     },
     "execution_count": 4,
     "metadata": {},
     "output_type": "execute_result"
    }
   ],
   "source": [
    "%%sql sqlite://\n",
    "\n",
    "SELECT \n",
    "    sno\n",
    "FROM \n",
    "    scores\n",
    "GROUP BY \n",
    "    sno\n",
    "HAVING \n",
    "    MAX(grade) <= 90 AND MIN(grade >= 70)"
   ]
  },
  {
   "cell_type": "markdown",
   "metadata": {},
   "source": [
    "Question 2:\n",
    "\n",
    "For all the courses that were taken by class 15033, calculate the average grade."
   ]
  },
  {
   "cell_type": "markdown",
   "metadata": {},
   "source": [
    "Answer 2:\n",
    "\n",
    "1. Goal: We want an average grade. This comes from scores.\n",
    "2. Constraint: We only want the average grade of courses by class 15033. The class number can be found in students.\n",
    "3. We can either join students and scores, or run a nested query."
   ]
  },
  {
   "cell_type": "code",
   "execution_count": 5,
   "metadata": {},
   "outputs": [
    {
     "name": "stdout",
     "output_type": "stream",
     "text": [
      "Done.\n"
     ]
    },
    {
     "data": {
      "text/html": [
       "<table>\n",
       "    <tr>\n",
       "        <th>AVG (scores.grade)</th>\n",
       "    </tr>\n",
       "    <tr>\n",
       "        <td>79.66666666666667</td>\n",
       "    </tr>\n",
       "</table>"
      ],
      "text/plain": [
       "[(79.66666666666667,)]"
      ]
     },
     "execution_count": 5,
     "metadata": {},
     "output_type": "execute_result"
    }
   ],
   "source": [
    "%%sql sqlite://\n",
    "    \n",
    "SELECT\n",
    "    AVG (scores.grade)\n",
    "FROM\n",
    "    scores\n",
    "WHERE\n",
    "    scores.sno IN\n",
    "    (\n",
    "        SELECT\n",
    "            students.sno\n",
    "        FROM\n",
    "            students\n",
    "        WHERE\n",
    "            students.class = 15033\n",
    "    )"
   ]
  },
  {
   "cell_type": "markdown",
   "metadata": {},
   "source": [
    "Question 3:\n",
    "\n",
    "Find the class number that has at least two male students."
   ]
  },
  {
   "cell_type": "markdown",
   "metadata": {},
   "source": [
    "Answer 3:\n",
    "\n",
    "1. Goal: We want a class number. This is found in students.\n",
    "2. Constraint: We want class numbers with at least two males. Student gender can be found in students."
   ]
  },
  {
   "cell_type": "code",
   "execution_count": 6,
   "metadata": {},
   "outputs": [
    {
     "name": "stdout",
     "output_type": "stream",
     "text": [
      "Done.\n"
     ]
    },
    {
     "data": {
      "text/html": [
       "<table>\n",
       "    <tr>\n",
       "        <th>class</th>\n",
       "    </tr>\n",
       "    <tr>\n",
       "        <td>15031</td>\n",
       "    </tr>\n",
       "    <tr>\n",
       "        <td>15033</td>\n",
       "    </tr>\n",
       "</table>"
      ],
      "text/plain": [
       "[('15031',), ('15033',)]"
      ]
     },
     "execution_count": 6,
     "metadata": {},
     "output_type": "execute_result"
    }
   ],
   "source": [
    "%%sql sqlite://\n",
    "    \n",
    "SELECT\n",
    "     students.class\n",
    "FROM \n",
    "    students\n",
    "GROUP BY\n",
    "    students.class\n",
    "HAVING\n",
    "    COUNT(students.sgender = 'male') >= 2\n",
    "    \n",
    "    "
   ]
  },
  {
   "cell_type": "markdown",
   "metadata": {},
   "source": [
    "Question 4:\n",
    "\n",
    "Find the teacher's name in CS and EE department, where they have different title. Return both name and title."
   ]
  },
  {
   "cell_type": "markdown",
   "metadata": {},
   "source": [
    "Answer 4:\n",
    "\n",
    "1. Goal: We want teacher names. They can be found in teachers.\n",
    "2. Constraints: We want teacher names in the CS and EE departments. More specifically, we want them to have different titles in each. These can also be found in teachers."
   ]
  },
  {
   "cell_type": "code",
   "execution_count": 7,
   "metadata": {},
   "outputs": [
    {
     "name": "stdout",
     "output_type": "stream",
     "text": [
      "Done.\n"
     ]
    },
    {
     "data": {
      "text/html": [
       "<table>\n",
       "    <tr>\n",
       "        <th>tname</th>\n",
       "    </tr>\n",
       "</table>"
      ],
      "text/plain": [
       "[]"
      ]
     },
     "execution_count": 7,
     "metadata": {},
     "output_type": "execute_result"
    }
   ],
   "source": [
    "%%sql sqlite://\n",
    "\n",
    "SELECT\n",
    "    t1.tname\n",
    "FROM\n",
    "    teachers AS t1\n",
    "WHERE\n",
    "    t1.department = 'CS' AND\n",
    "    t1.tname IN\n",
    "    (\n",
    "    SELECT\n",
    "        t2.tname\n",
    "    FROM\n",
    "        teachers AS t2\n",
    "    WHERE\n",
    "        t2.department = 'EE' AND\n",
    "        t1.title <> t2.title\n",
    "    )"
   ]
  },
  {
   "cell_type": "markdown",
   "metadata": {},
   "source": [
    "Question 5\n",
    "\n",
    "Find the students, who took the course number \"3-105\" and have earned a grade, at least, higher than the\n",
    "students who took \"3-245\" course. Return the results in a descending order of grade."
   ]
  },
  {
   "cell_type": "markdown",
   "metadata": {},
   "source": [
    "Answer 5\n",
    "\n",
    "1. Goal: We want to find student numbers. This can be found in students or scores.\n",
    "2. Constraints: We want to find students who took course \"3-105.\" The course number can be found in scores and courses. More specifically, we want students who took \"3-105\" who had a higher grade than the grades of students who took course \"3-245.\""
   ]
  },
  {
   "cell_type": "code",
   "execution_count": 26,
   "metadata": {},
   "outputs": [
    {
     "name": "stdout",
     "output_type": "stream",
     "text": [
      "Done.\n"
     ]
    },
    {
     "data": {
      "text/html": [
       "<table>\n",
       "    <tr>\n",
       "        <th>sno</th>\n",
       "    </tr>\n",
       "    <tr>\n",
       "        <td>103</td>\n",
       "    </tr>\n",
       "    <tr>\n",
       "        <td>107</td>\n",
       "    </tr>\n",
       "    <tr>\n",
       "        <td>105</td>\n",
       "    </tr>\n",
       "</table>"
      ],
      "text/plain": [
       "[('103',), ('107',), ('105',)]"
      ]
     },
     "execution_count": 26,
     "metadata": {},
     "output_type": "execute_result"
    }
   ],
   "source": [
    "%%sql sqlite://\n",
    "\n",
    "SELECT \n",
    "    DISTINCT scores.sno\n",
    "FROM\n",
    "    scores\n",
    "WHERE\n",
    "    scores.sno IN\n",
    "    (\n",
    "    SELECT\n",
    "        scores.sno\n",
    "    FROM\n",
    "        scores\n",
    "    WHERE\n",
    "        scores.cno = '3-105'\n",
    "    )\n",
    "GROUP BY \n",
    "    grade\n",
    "HAVING\n",
    "    MAX(grade) > \n",
    "    (\n",
    "        SELECT \n",
    "            MAX(scores.grade)\n",
    "         FROM\n",
    "            scores\n",
    "         WHERE \n",
    "            scores.cno = '3-245'\n",
    "    )\n",
    "ORDER BY \n",
    "    scores.grade DESC"
   ]
  },
  {
   "cell_type": "markdown",
   "metadata": {},
   "source": [
    "Question 6:\n",
    "\n",
    "Find the students who took more than one course, and return the students' names that is not the one with the highest grade."
   ]
  },
  {
   "cell_type": "markdown",
   "metadata": {},
   "source": [
    "Answer 6:\n",
    "\n",
    "1. Goal: We want to find student numbers. This can be found in scores.\n",
    "2. Constraint: We only want to find the numbers of students who took more than one course. This can also be found in scores. More specifically, we want to omit the student with the highest score.\n",
    "\n",
    "Note: I wrote the same subquery three times because when I renamed it with AS it wasn't recognized when I called it"
   ]
  },
  {
   "cell_type": "code",
   "execution_count": 73,
   "metadata": {},
   "outputs": [
    {
     "name": "stdout",
     "output_type": "stream",
     "text": [
      "Done.\n"
     ]
    },
    {
     "data": {
      "text/html": [
       "<table>\n",
       "    <tr>\n",
       "        <th>sno</th>\n",
       "    </tr>\n",
       "    <tr>\n",
       "        <td>101</td>\n",
       "    </tr>\n",
       "    <tr>\n",
       "        <td>105</td>\n",
       "    </tr>\n",
       "    <tr>\n",
       "        <td>107</td>\n",
       "    </tr>\n",
       "    <tr>\n",
       "        <td>108</td>\n",
       "    </tr>\n",
       "    <tr>\n",
       "        <td>109</td>\n",
       "    </tr>\n",
       "</table>"
      ],
      "text/plain": [
       "[('101',), ('105',), ('107',), ('108',), ('109',)]"
      ]
     },
     "execution_count": 73,
     "metadata": {},
     "output_type": "execute_result"
    }
   ],
   "source": [
    "%%sql sqlite://\n",
    "    \n",
    "SELECT\n",
    "    DISTINCT scores.sno\n",
    "FROM\n",
    "    scores\n",
    "WHERE\n",
    "    sno IN\n",
    "    (\n",
    "        SELECT\n",
    "            sno\n",
    "        FROM\n",
    "            scores\n",
    "        GROUP BY\n",
    "            scores.sno\n",
    "        HAVING \n",
    "            COUNT (scores.cno) > 1\n",
    "    ) AND\n",
    "    sno NOT IN\n",
    "    (\n",
    "        SELECT\n",
    "            sno\n",
    "        FROM\n",
    "        (\n",
    "            SELECT\n",
    "                *\n",
    "            FROM\n",
    "                scores\n",
    "            GROUP BY\n",
    "                scores.sno\n",
    "            HAVING\n",
    "                COUNT (scores.cno) > 1\n",
    "        ) AS multi_class_scores\n",
    "        GROUP BY\n",
    "            grade\n",
    "        HAVING\n",
    "            grade = (                          \n",
    "                        SELECT                 \n",
    "                            MAX(grade)\n",
    "                        FROM \n",
    "                        (\n",
    "                            SELECT\n",
    "                                *\n",
    "                            FROM\n",
    "                                scores\n",
    "                            GROUP BY\n",
    "                                scores.sno\n",
    "                            HAVING\n",
    "                                COUNT (scores.cno) > 1\n",
    "                        )\n",
    "                    )\n",
    "    )    "
   ]
  },
  {
   "cell_type": "code",
   "execution_count": null,
   "metadata": {},
   "outputs": [],
   "source": []
  }
 ],
 "metadata": {
  "kernelspec": {
   "display_name": "Python 3",
   "language": "python",
   "name": "python3"
  },
  "language_info": {
   "codemirror_mode": {
    "name": "ipython",
    "version": 3
   },
   "file_extension": ".py",
   "mimetype": "text/x-python",
   "name": "python",
   "nbconvert_exporter": "python",
   "pygments_lexer": "ipython3",
   "version": "3.7.1"
  }
 },
 "nbformat": 4,
 "nbformat_minor": 2
}
